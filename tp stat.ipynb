{
 "cells": [
  {
   "cell_type": "code",
   "execution_count": 249,
   "metadata": {
    "collapsed": true
   },
   "outputs": [],
   "source": [
    "import math\n",
    "import time\n",
    "import random\n",
    "import pandas as pd"
   ]
  },
  {
   "cell_type": "code",
   "execution_count": 250,
   "metadata": {
    "collapsed": false
   },
   "outputs": [],
   "source": [
    "import matplotlib.pyplot as plt\n",
    "import seaborn as sns\n",
    "sns.set_style('whitegrid')\n",
    "%matplotlib inline"
   ]
  },
  {
   "cell_type": "code",
   "execution_count": 251,
   "metadata": {
    "collapsed": true
   },
   "outputs": [],
   "source": [
    "                                            '''\n",
    "            Fonction qui permet de diviser un echantillon de taille n entre 0 et 1 \n",
    "                                            '''\n",
    "def xfrange(start, stop, step):\n",
    "    index = 0\n",
    "    while start + index * step < stop:\n",
    "        yield start + index * step\n",
    "        index += 1"
   ]
  },
  {
   "cell_type": "code",
   "execution_count": 252,
   "metadata": {
    "collapsed": true
   },
   "outputs": [],
   "source": [
    "tab_n = list(range(10000 , 110000,10000)) #liste du nombres a considerer par echantillon [10000,100000, ...]"
   ]
  },
  {
   "cell_type": "markdown",
   "metadata": {
    "collapsed": false
   },
   "source": [
    "# 1.1) Simulation par Monte Carlo"
   ]
  },
  {
   "cell_type": "code",
   "execution_count": 5,
   "metadata": {
    "collapsed": true
   },
   "outputs": [],
   "source": [
    "                                            '''\n",
    "                                    Fonction a approcher\n",
    "                                            '''\n",
    "def f(x): \n",
    "    return math.sqrt(1-(x*x))"
   ]
  },
  {
   "cell_type": "code",
   "execution_count": 253,
   "metadata": {
    "collapsed": false
   },
   "outputs": [],
   "source": [
    "data = []\n",
    "interval_inf = 0\n",
    "interval_sup = 1\n",
    "\n",
    "for n in tab_n:\n",
    "\n",
    "    start = time.time()\n",
    "    surface    = 0\n",
    "    dx         = (interval_sup - interval_inf) / n \n",
    "    xi_simule  = []\n",
    "    for x in xfrange(0,1,dx):\n",
    "        xi_simule.append(f(x)*dx)\n",
    "        surface = surface + f(x)*dx \n",
    "        \n",
    "    end          = time.time()\n",
    "    moyenne_emp  = surface\n",
    "    surface      = surface*4\n",
    "    \n",
    "    erreur_abs   = abs((math.pi- surface)/ math.pi )\n",
    "    \n",
    "    variance     = 1/n*(sum(map(lambda x : x - moyenne_emp, xi_simule))**2)\n",
    "    ecart_type   = math.sqrt(variance)\n",
    "    cinterval_inf = moyenne_emp-(1.96*ecart_type/math.sqrt(n))\n",
    "    cinterval_sup = moyenne_emp+(1.96*ecart_type/math.sqrt(n))\n",
    "    confidence = [interval_inf,interval_sup]\n",
    "    \n",
    "    data.append([\n",
    "          \"Monte Carlo\",n,abs(start-end),surface,math.pi,erreur_abs,ecart_type,confidence\n",
    "     ])\n",
    "    \n",
    "df_monte_carlo = pd.DataFrame(data,columns=[\"methode\",\"n\",\"temps ecoulé\",\"val. approchée\",\n",
    "                                            \"val. réelle\",\"erreur relative\",\"ecart-type\",\"interval de conf\"])"
   ]
  },
  {
   "cell_type": "code",
   "execution_count": 254,
   "metadata": {
    "collapsed": false
   },
   "outputs": [
    {
     "data": {
      "text/html": [
       "<div>\n",
       "<table border=\"1\" class=\"dataframe\">\n",
       "  <thead>\n",
       "    <tr style=\"text-align: right;\">\n",
       "      <th></th>\n",
       "      <th>methode</th>\n",
       "      <th>n</th>\n",
       "      <th>temps ecoulé</th>\n",
       "      <th>val. approchée</th>\n",
       "      <th>val. réelle</th>\n",
       "      <th>erreur relative</th>\n",
       "      <th>ecart-type</th>\n",
       "      <th>interval de conf</th>\n",
       "    </tr>\n",
       "  </thead>\n",
       "  <tbody>\n",
       "    <tr>\n",
       "      <th>0</th>\n",
       "      <td>Monte Carlo</td>\n",
       "      <td>10000</td>\n",
       "      <td>0.015010</td>\n",
       "      <td>3.141791</td>\n",
       "      <td>3.141593</td>\n",
       "      <td>0.000063</td>\n",
       "      <td>78.536932</td>\n",
       "      <td>[0, 1]</td>\n",
       "    </tr>\n",
       "    <tr>\n",
       "      <th>1</th>\n",
       "      <td>Monte Carlo</td>\n",
       "      <td>20000</td>\n",
       "      <td>0.027501</td>\n",
       "      <td>3.141692</td>\n",
       "      <td>3.141593</td>\n",
       "      <td>0.000032</td>\n",
       "      <td>111.070041</td>\n",
       "      <td>[0, 1]</td>\n",
       "    </tr>\n",
       "    <tr>\n",
       "      <th>2</th>\n",
       "      <td>Monte Carlo</td>\n",
       "      <td>30000</td>\n",
       "      <td>0.040032</td>\n",
       "      <td>3.141659</td>\n",
       "      <td>3.141593</td>\n",
       "      <td>0.000021</td>\n",
       "      <td>136.033295</td>\n",
       "      <td>[0, 1]</td>\n",
       "    </tr>\n",
       "    <tr>\n",
       "      <th>3</th>\n",
       "      <td>Monte Carlo</td>\n",
       "      <td>40000</td>\n",
       "      <td>0.052530</td>\n",
       "      <td>3.141643</td>\n",
       "      <td>3.141593</td>\n",
       "      <td>0.000016</td>\n",
       "      <td>157.078198</td>\n",
       "      <td>[0, 1]</td>\n",
       "    </tr>\n",
       "    <tr>\n",
       "      <th>4</th>\n",
       "      <td>Monte Carlo</td>\n",
       "      <td>50000</td>\n",
       "      <td>0.064049</td>\n",
       "      <td>3.141633</td>\n",
       "      <td>3.141593</td>\n",
       "      <td>0.000013</td>\n",
       "      <td>175.619086</td>\n",
       "      <td>[0, 1]</td>\n",
       "    </tr>\n",
       "    <tr>\n",
       "      <th>5</th>\n",
       "      <td>Monte Carlo</td>\n",
       "      <td>60000</td>\n",
       "      <td>0.078043</td>\n",
       "      <td>3.141626</td>\n",
       "      <td>3.141593</td>\n",
       "      <td>0.000011</td>\n",
       "      <td>192.381304</td>\n",
       "      <td>[0, 1]</td>\n",
       "    </tr>\n",
       "    <tr>\n",
       "      <th>6</th>\n",
       "      <td>Monte Carlo</td>\n",
       "      <td>70000</td>\n",
       "      <td>0.090564</td>\n",
       "      <td>3.141621</td>\n",
       "      <td>3.141593</td>\n",
       "      <td>0.000009</td>\n",
       "      <td>207.795739</td>\n",
       "      <td>[0, 1]</td>\n",
       "    </tr>\n",
       "    <tr>\n",
       "      <th>7</th>\n",
       "      <td>Monte Carlo</td>\n",
       "      <td>80000</td>\n",
       "      <td>0.102572</td>\n",
       "      <td>3.141618</td>\n",
       "      <td>3.141593</td>\n",
       "      <td>0.000008</td>\n",
       "      <td>222.143134</td>\n",
       "      <td>[0, 1]</td>\n",
       "    </tr>\n",
       "    <tr>\n",
       "      <th>8</th>\n",
       "      <td>Monte Carlo</td>\n",
       "      <td>90000</td>\n",
       "      <td>0.113580</td>\n",
       "      <td>3.141615</td>\n",
       "      <td>3.141593</td>\n",
       "      <td>0.000007</td>\n",
       "      <td>235.618494</td>\n",
       "      <td>[0, 1]</td>\n",
       "    </tr>\n",
       "    <tr>\n",
       "      <th>9</th>\n",
       "      <td>Monte Carlo</td>\n",
       "      <td>100000</td>\n",
       "      <td>0.126589</td>\n",
       "      <td>3.141613</td>\n",
       "      <td>3.141593</td>\n",
       "      <td>0.000006</td>\n",
       "      <td>248.363801</td>\n",
       "      <td>[0, 1]</td>\n",
       "    </tr>\n",
       "  </tbody>\n",
       "</table>\n",
       "</div>"
      ],
      "text/plain": [
       "       methode       n  temps ecoulé  val. approchée  val. réelle  \\\n",
       "0  Monte Carlo   10000      0.015010        3.141791     3.141593   \n",
       "1  Monte Carlo   20000      0.027501        3.141692     3.141593   \n",
       "2  Monte Carlo   30000      0.040032        3.141659     3.141593   \n",
       "3  Monte Carlo   40000      0.052530        3.141643     3.141593   \n",
       "4  Monte Carlo   50000      0.064049        3.141633     3.141593   \n",
       "5  Monte Carlo   60000      0.078043        3.141626     3.141593   \n",
       "6  Monte Carlo   70000      0.090564        3.141621     3.141593   \n",
       "7  Monte Carlo   80000      0.102572        3.141618     3.141593   \n",
       "8  Monte Carlo   90000      0.113580        3.141615     3.141593   \n",
       "9  Monte Carlo  100000      0.126589        3.141613     3.141593   \n",
       "\n",
       "   erreur relative  ecart-type interval de conf  \n",
       "0         0.000063   78.536932           [0, 1]  \n",
       "1         0.000032  111.070041           [0, 1]  \n",
       "2         0.000021  136.033295           [0, 1]  \n",
       "3         0.000016  157.078198           [0, 1]  \n",
       "4         0.000013  175.619086           [0, 1]  \n",
       "5         0.000011  192.381304           [0, 1]  \n",
       "6         0.000009  207.795739           [0, 1]  \n",
       "7         0.000008  222.143134           [0, 1]  \n",
       "8         0.000007  235.618494           [0, 1]  \n",
       "9         0.000006  248.363801           [0, 1]  "
      ]
     },
     "execution_count": 254,
     "metadata": {},
     "output_type": "execute_result"
    }
   ],
   "source": [
    "df_monte_carlo"
   ]
  },
  {
   "cell_type": "markdown",
   "metadata": {
    "collapsed": false
   },
   "source": [
    "# 1.2) Simulation par jet aléatoire"
   ]
  },
  {
   "cell_type": "code",
   "execution_count": 255,
   "metadata": {
    "collapsed": false
   },
   "outputs": [],
   "source": [
    "data = []\n",
    "start = time.time()\n",
    "for n in tab_n:\n",
    "    cpt = 0.0\n",
    "    xi_simule = []\n",
    "    for i in range(0,n):\n",
    "        x = random.uniform(-1,1)\n",
    "        y = random.uniform(-1,1)\n",
    "        if( x*x+y*y <= 1):\n",
    "            cpt = cpt+1\n",
    "            xi_simule.append(1)\n",
    "            \n",
    "    end        = time.time()\n",
    "    \n",
    "    surface    = cpt*4/n\n",
    "    erreur_abs = abs((math.pi- surface)/ math.pi)\n",
    "    \n",
    "    moyenne_emp = 1/n*cpt\n",
    "    variance     = 1/n*(sum(map(lambda x : x - moyenne_emp, xi_simule))**2)\n",
    "    ecart_type   = math.sqrt(variance)\n",
    "    \n",
    "    cinterval_inf = moyenne_emp-(1.96*ecart_type/math.sqrt(n))\n",
    "    cinterval_sup = moyenne_emp+(1.96*ecart_type/math.sqrt(n))\n",
    "    confidence = [interval_inf,interval_sup]\n",
    "    \n",
    "    data.append([\n",
    "          \"Jet aléatoire\",n,abs(start-end),surface,math.pi,erreur_abs,ecart_type,confidence\n",
    "     ])\n",
    "    \n",
    "df_jet_aleatoire = pd.DataFrame(data,columns=[\"methode\",\"n\",\"temps ecoulé\",\"val. approchée\",\n",
    "                                        \"val. réelle\",\"erreur relative\",\"ecart-type\",\"interval de conf\"])"
   ]
  },
  {
   "cell_type": "code",
   "execution_count": 256,
   "metadata": {
    "collapsed": false
   },
   "outputs": [
    {
     "data": {
      "text/html": [
       "<div>\n",
       "<table border=\"1\" class=\"dataframe\">\n",
       "  <thead>\n",
       "    <tr style=\"text-align: right;\">\n",
       "      <th></th>\n",
       "      <th>methode</th>\n",
       "      <th>n</th>\n",
       "      <th>temps ecoulé</th>\n",
       "      <th>val. approchée</th>\n",
       "      <th>val. réelle</th>\n",
       "      <th>erreur relative</th>\n",
       "      <th>ecart-type</th>\n",
       "      <th>interval de conf</th>\n",
       "    </tr>\n",
       "  </thead>\n",
       "  <tbody>\n",
       "    <tr>\n",
       "      <th>0</th>\n",
       "      <td>Jet aléatoire</td>\n",
       "      <td>10000</td>\n",
       "      <td>0.013012</td>\n",
       "      <td>3.113600</td>\n",
       "      <td>3.141593</td>\n",
       "      <td>0.008910</td>\n",
       "      <td>17.249344</td>\n",
       "      <td>[0, 1]</td>\n",
       "    </tr>\n",
       "    <tr>\n",
       "      <th>1</th>\n",
       "      <td>Jet aléatoire</td>\n",
       "      <td>20000</td>\n",
       "      <td>0.041534</td>\n",
       "      <td>3.121400</td>\n",
       "      <td>3.141593</td>\n",
       "      <td>0.006428</td>\n",
       "      <td>24.240169</td>\n",
       "      <td>[0, 1]</td>\n",
       "    </tr>\n",
       "    <tr>\n",
       "      <th>2</th>\n",
       "      <td>Jet aléatoire</td>\n",
       "      <td>30000</td>\n",
       "      <td>0.081552</td>\n",
       "      <td>3.136000</td>\n",
       "      <td>3.141593</td>\n",
       "      <td>0.001780</td>\n",
       "      <td>29.331241</td>\n",
       "      <td>[0, 1]</td>\n",
       "    </tr>\n",
       "    <tr>\n",
       "      <th>3</th>\n",
       "      <td>Jet aléatoire</td>\n",
       "      <td>40000</td>\n",
       "      <td>0.132593</td>\n",
       "      <td>3.137500</td>\n",
       "      <td>3.141593</td>\n",
       "      <td>0.001303</td>\n",
       "      <td>33.826172</td>\n",
       "      <td>[0, 1]</td>\n",
       "    </tr>\n",
       "    <tr>\n",
       "      <th>4</th>\n",
       "      <td>Jet aléatoire</td>\n",
       "      <td>50000</td>\n",
       "      <td>0.198137</td>\n",
       "      <td>3.134240</td>\n",
       "      <td>3.141593</td>\n",
       "      <td>0.002340</td>\n",
       "      <td>37.922310</td>\n",
       "      <td>[0, 1]</td>\n",
       "    </tr>\n",
       "    <tr>\n",
       "      <th>5</th>\n",
       "      <td>Jet aléatoire</td>\n",
       "      <td>60000</td>\n",
       "      <td>0.276181</td>\n",
       "      <td>3.145200</td>\n",
       "      <td>3.141593</td>\n",
       "      <td>0.001148</td>\n",
       "      <td>41.159342</td>\n",
       "      <td>[0, 1]</td>\n",
       "    </tr>\n",
       "    <tr>\n",
       "      <th>6</th>\n",
       "      <td>Jet aléatoire</td>\n",
       "      <td>70000</td>\n",
       "      <td>0.366253</td>\n",
       "      <td>3.130000</td>\n",
       "      <td>3.141593</td>\n",
       "      <td>0.003690</td>\n",
       "      <td>45.029034</td>\n",
       "      <td>[0, 1]</td>\n",
       "    </tr>\n",
       "    <tr>\n",
       "      <th>7</th>\n",
       "      <td>Jet aléatoire</td>\n",
       "      <td>80000</td>\n",
       "      <td>0.470827</td>\n",
       "      <td>3.132950</td>\n",
       "      <td>3.141593</td>\n",
       "      <td>0.002751</td>\n",
       "      <td>48.020051</td>\n",
       "      <td>[0, 1]</td>\n",
       "    </tr>\n",
       "    <tr>\n",
       "      <th>8</th>\n",
       "      <td>Jet aléatoire</td>\n",
       "      <td>90000</td>\n",
       "      <td>0.588910</td>\n",
       "      <td>3.133422</td>\n",
       "      <td>3.141593</td>\n",
       "      <td>0.002601</td>\n",
       "      <td>50.912889</td>\n",
       "      <td>[0, 1]</td>\n",
       "    </tr>\n",
       "    <tr>\n",
       "      <th>9</th>\n",
       "      <td>Jet aléatoire</td>\n",
       "      <td>100000</td>\n",
       "      <td>0.720519</td>\n",
       "      <td>3.137800</td>\n",
       "      <td>3.141593</td>\n",
       "      <td>0.001207</td>\n",
       "      <td>53.470383</td>\n",
       "      <td>[0, 1]</td>\n",
       "    </tr>\n",
       "  </tbody>\n",
       "</table>\n",
       "</div>"
      ],
      "text/plain": [
       "         methode       n  temps ecoulé  val. approchée  val. réelle  \\\n",
       "0  Jet aléatoire   10000      0.013012        3.113600     3.141593   \n",
       "1  Jet aléatoire   20000      0.041534        3.121400     3.141593   \n",
       "2  Jet aléatoire   30000      0.081552        3.136000     3.141593   \n",
       "3  Jet aléatoire   40000      0.132593        3.137500     3.141593   \n",
       "4  Jet aléatoire   50000      0.198137        3.134240     3.141593   \n",
       "5  Jet aléatoire   60000      0.276181        3.145200     3.141593   \n",
       "6  Jet aléatoire   70000      0.366253        3.130000     3.141593   \n",
       "7  Jet aléatoire   80000      0.470827        3.132950     3.141593   \n",
       "8  Jet aléatoire   90000      0.588910        3.133422     3.141593   \n",
       "9  Jet aléatoire  100000      0.720519        3.137800     3.141593   \n",
       "\n",
       "   erreur relative  ecart-type interval de conf  \n",
       "0         0.008910   17.249344           [0, 1]  \n",
       "1         0.006428   24.240169           [0, 1]  \n",
       "2         0.001780   29.331241           [0, 1]  \n",
       "3         0.001303   33.826172           [0, 1]  \n",
       "4         0.002340   37.922310           [0, 1]  \n",
       "5         0.001148   41.159342           [0, 1]  \n",
       "6         0.003690   45.029034           [0, 1]  \n",
       "7         0.002751   48.020051           [0, 1]  \n",
       "8         0.002601   50.912889           [0, 1]  \n",
       "9         0.001207   53.470383           [0, 1]  "
      ]
     },
     "execution_count": 256,
     "metadata": {},
     "output_type": "execute_result"
    }
   ],
   "source": [
    "df_jet_aleatoire"
   ]
  },
  {
   "cell_type": "markdown",
   "metadata": {},
   "source": [
    "# 1.3) Comparaison des methodes "
   ]
  },
  {
   "cell_type": "code",
   "execution_count": 257,
   "metadata": {
    "collapsed": false
   },
   "outputs": [
    {
     "data": {
      "text/plain": [
       "\"\\n    On remarque dans ce graphe que la methode de monte carlo est beaucoup plus rapide que le comptage aléatoire\\n    \\n    EN X: le temps ecoulé \\n    EN Y: le nombre d'individus pour chaque echantillon\\n\\n\""
      ]
     },
     "execution_count": 257,
     "metadata": {},
     "output_type": "execute_result"
    },
    {
     "data": {
      "image/png": "[encoded data removed]",
      "text/plain": [
       "<matplotlib.figure.Figure at 0x1a751e3d898>"
      ]
     },
     "metadata": {},
     "output_type": "display_data"
    }
   ],
   "source": [
    "''' \n",
    "\n",
    "VITESSE D'APPROXIMATION  \n",
    "\n",
    "'''\n",
    "sns.plt.plot(df_jet_aleatoire[\"temps ecoulé\"],df_jet_aleatoire[\"n\"]) # EN BLEU\n",
    "sns.plt.plot(df_monte_carlo[\"temps ecoulé\"],df_jet_aleatoire[\"n\"]) # EN VERT\n",
    "'''\n",
    "    On remarque dans ce graphe que la methode de monte carlo est beaucoup plus rapide que le comptage aléatoire\n",
    "    \n",
    "    EN X: le temps ecoulé \n",
    "    EN Y: le nombre d'individus pour chaque echantillon\n",
    "\n",
    "'''"
   ]
  },
  {
   "cell_type": "code",
   "execution_count": 270,
   "metadata": {
    "collapsed": false
   },
   "outputs": [
    {
     "data": {
      "text/plain": [
       "\"\\n    On remarque dans ce graphe que la methode de monte carlo est beaucoup plus précise que le comptage aléatoire\\n        \\n    EN X: le nombre d'individus pour chaque echantillon\\n    EN Y: le ratio d'erreur relative\\n\\n\""
      ]
     },
     "execution_count": 270,
     "metadata": {},
     "output_type": "execute_result"
    },
    {
     "data": {
      "image/png": "[encoded data removed]",
      "text/plain": [
       "<matplotlib.figure.Figure at 0x1a750189748>"
      ]
     },
     "metadata": {},
     "output_type": "display_data"
    }
   ],
   "source": [
    "''' \n",
    "\n",
    "PRECISION DE CONVERGENCE \n",
    "\n",
    "'''\n",
    "sns.plt.plot(tab_n,df_jet_aleatoire[\"erreur relative\"]) # EN BLEU L\"ALEATOIRE\n",
    "sns.plt.plot(tab_n,df_monte_carlo[\"erreur relative\"]) # EN VERT POUR MONTE_CARLO\n",
    "'''\n",
    "    On remarque dans ce graphe que la methode de monte carlo est beaucoup plus précise que le comptage aléatoire\n",
    "        \n",
    "    EN X: le nombre d'individus pour chaque echantillon\n",
    "    EN Y: le ratio d'erreur relative\n",
    "\n",
    "'''"
   ]
  },
  {
   "cell_type": "markdown",
   "metadata": {
    "collapsed": true
   },
   "source": [
    "# 2.1) Simulation de loi normale"
   ]
  },
  {
   "cell_type": "code",
   "execution_count": 260,
   "metadata": {
    "collapsed": true
   },
   "outputs": [],
   "source": [
    "val   = list(range(1,5))\n",
    "probs = [0.10,0.20,0.25,0.45]"
   ]
  },
  {
   "cell_type": "code",
   "execution_count": 261,
   "metadata": {
    "collapsed": false
   },
   "outputs": [],
   "source": [
    "esperance_par_xi_reel = list(map(lambda x,y:x*y,val,probs))\n",
    "esperance_reel        = sum(esperance_par_xi_reel)"
   ]
  },
  {
   "cell_type": "code",
   "execution_count": 262,
   "metadata": {
    "collapsed": true
   },
   "outputs": [],
   "source": [
    "def returnX(prob,probs,val):\n",
    "    stack = 0\n",
    "    for i in range(len(probs)):\n",
    "        stack += probs[i] \n",
    "        if prob < stack:\n",
    "            return val[i]\n",
    "    return val[len(probs)-1]"
   ]
  },
  {
   "cell_type": "code",
   "execution_count": 263,
   "metadata": {
    "collapsed": false
   },
   "outputs": [],
   "source": [
    "def returnX_reverse(prob,probs,val):\n",
    "    stack = 1\n",
    "    for i in reversed(range(len(probs))):\n",
    "        stack -= probs[i]\n",
    "        if prob > stack:\n",
    "            return val[i]    \n",
    "    return val[0]\n",
    "        "
   ]
  },
  {
   "cell_type": "markdown",
   "metadata": {},
   "source": [
    "### 2.1.1) loi normale en considerant les proba croissantes"
   ]
  },
  {
   "cell_type": "code",
   "execution_count": 264,
   "metadata": {
    "collapsed": false
   },
   "outputs": [],
   "source": [
    "esperance_reel = sum(esperance_par_xi_reel)\n",
    "data           = []\n",
    "\n",
    "for n in tab_n:    \n",
    "    xi_simule = []\n",
    "    start = time.time()\n",
    "    \n",
    "    for i in range(n):\n",
    "        u = random.uniform(0,1)\n",
    "        x = returnX(u,probs,val)\n",
    "        xi_simule.append(x)\n",
    " \n",
    "    end          = time.time()\n",
    "    \n",
    "    moyenne_emp  = 1/n * (sum(xi_simule))\n",
    "    variance     = 1/n*(sum(map(lambda x : x - moyenne_emp, xi_simule))**2)\n",
    "    ecart_type   = math.sqrt(variance)\n",
    "    erreur_abs   = abs( (esperance_reel - moyenne_emp) / esperance_reel)\n",
    "    \n",
    "    cinterval_inf = moyenne_emp-(1.96*ecart_type/math.sqrt(n))\n",
    "    cinterval_sup = moyenne_emp+(1.96*ecart_type/math.sqrt(n))\n",
    "    confidence = [str(cinterval_inf),str(cinterval_sup)]\n",
    "    \n",
    "    data.append([\n",
    "          \"random de v.a iid\",n,abs(start-end),moyenne_emp,esperance_reel,abs(erreur_abs),ecart_type,confidence\n",
    "    ])\n",
    "    \n",
    "df_loi_normale_continue = pd.DataFrame(data,columns=[\"methode\",\"n\",\"temps ecoulé\",\"val. approchée\",\n",
    "                                        \"val. réelle\",\"erreur relative\",\"ecart-type\",\"interval de conf\"])\n",
    "\n",
    "    #results.append([\"Monte-Carlo\",n,end-start,erreur_abs,ecart_type,\"\"])"
   ]
  },
  {
   "cell_type": "code",
   "execution_count": 265,
   "metadata": {
    "collapsed": false
   },
   "outputs": [
    {
     "data": {
      "text/html": [
       "<div>\n",
       "<table border=\"1\" class=\"dataframe\">\n",
       "  <thead>\n",
       "    <tr style=\"text-align: right;\">\n",
       "      <th></th>\n",
       "      <th>methode</th>\n",
       "      <th>n</th>\n",
       "      <th>temps ecoulé</th>\n",
       "      <th>val. approchée</th>\n",
       "      <th>val. réelle</th>\n",
       "      <th>erreur relative</th>\n",
       "      <th>ecart-type</th>\n",
       "      <th>interval de conf</th>\n",
       "    </tr>\n",
       "  </thead>\n",
       "  <tbody>\n",
       "    <tr>\n",
       "      <th>0</th>\n",
       "      <td>random de v.a iid</td>\n",
       "      <td>10000</td>\n",
       "      <td>0.013510</td>\n",
       "      <td>3.053400</td>\n",
       "      <td>3.05</td>\n",
       "      <td>0.001115</td>\n",
       "      <td>6.382450e-14</td>\n",
       "      <td>[3.053399999999999, 3.0534000000000017]</td>\n",
       "    </tr>\n",
       "    <tr>\n",
       "      <th>1</th>\n",
       "      <td>random de v.a iid</td>\n",
       "      <td>20000</td>\n",
       "      <td>0.028023</td>\n",
       "      <td>3.044500</td>\n",
       "      <td>3.05</td>\n",
       "      <td>0.001803</td>\n",
       "      <td>9.117841e-14</td>\n",
       "      <td>[3.044499999999999, 3.0445000000000015]</td>\n",
       "    </tr>\n",
       "    <tr>\n",
       "      <th>2</th>\n",
       "      <td>random de v.a iid</td>\n",
       "      <td>30000</td>\n",
       "      <td>0.041541</td>\n",
       "      <td>3.051267</td>\n",
       "      <td>3.05</td>\n",
       "      <td>0.000415</td>\n",
       "      <td>2.392678e-13</td>\n",
       "      <td>[3.051266666666664, 3.0512666666666695]</td>\n",
       "    </tr>\n",
       "    <tr>\n",
       "      <th>3</th>\n",
       "      <td>random de v.a iid</td>\n",
       "      <td>40000</td>\n",
       "      <td>0.055040</td>\n",
       "      <td>3.053650</td>\n",
       "      <td>3.05</td>\n",
       "      <td>0.001197</td>\n",
       "      <td>6.428902e-13</td>\n",
       "      <td>[3.053649999999994, 3.0536500000000064]</td>\n",
       "    </tr>\n",
       "    <tr>\n",
       "      <th>4</th>\n",
       "      <td>random de v.a iid</td>\n",
       "      <td>50000</td>\n",
       "      <td>0.070553</td>\n",
       "      <td>3.056180</td>\n",
       "      <td>3.05</td>\n",
       "      <td>0.002026</td>\n",
       "      <td>1.686256e-13</td>\n",
       "      <td>[3.056179999999999, 3.0561800000000017]</td>\n",
       "    </tr>\n",
       "    <tr>\n",
       "      <th>5</th>\n",
       "      <td>random de v.a iid</td>\n",
       "      <td>60000</td>\n",
       "      <td>0.083549</td>\n",
       "      <td>3.053767</td>\n",
       "      <td>3.05</td>\n",
       "      <td>0.001235</td>\n",
       "      <td>1.051480e-12</td>\n",
       "      <td>[3.0537666666666583, 3.053766666666675]</td>\n",
       "    </tr>\n",
       "    <tr>\n",
       "      <th>6</th>\n",
       "      <td>random de v.a iid</td>\n",
       "      <td>70000</td>\n",
       "      <td>0.095567</td>\n",
       "      <td>3.049214</td>\n",
       "      <td>3.05</td>\n",
       "      <td>0.000258</td>\n",
       "      <td>1.914693e-12</td>\n",
       "      <td>[3.0492142857142714, 3.0492142857143]</td>\n",
       "    </tr>\n",
       "    <tr>\n",
       "      <th>7</th>\n",
       "      <td>random de v.a iid</td>\n",
       "      <td>80000</td>\n",
       "      <td>0.108577</td>\n",
       "      <td>3.045288</td>\n",
       "      <td>3.05</td>\n",
       "      <td>0.001545</td>\n",
       "      <td>8.194313e-14</td>\n",
       "      <td>[3.0452874999999997, 3.0452875000000006]</td>\n",
       "    </tr>\n",
       "    <tr>\n",
       "      <th>8</th>\n",
       "      <td>random de v.a iid</td>\n",
       "      <td>90000</td>\n",
       "      <td>0.123620</td>\n",
       "      <td>3.050411</td>\n",
       "      <td>3.05</td>\n",
       "      <td>0.000135</td>\n",
       "      <td>3.217486e-13</td>\n",
       "      <td>[3.050411111111109, 3.0504111111111136]</td>\n",
       "    </tr>\n",
       "    <tr>\n",
       "      <th>9</th>\n",
       "      <td>random de v.a iid</td>\n",
       "      <td>100000</td>\n",
       "      <td>0.137607</td>\n",
       "      <td>3.049490</td>\n",
       "      <td>3.05</td>\n",
       "      <td>0.000167</td>\n",
       "      <td>1.268047e-12</td>\n",
       "      <td>[3.049489999999992, 3.049490000000008]</td>\n",
       "    </tr>\n",
       "  </tbody>\n",
       "</table>\n",
       "</div>"
      ],
      "text/plain": [
       "             methode       n  temps ecoulé  val. approchée  val. réelle  \\\n",
       "0  random de v.a iid   10000      0.013510        3.053400         3.05   \n",
       "1  random de v.a iid   20000      0.028023        3.044500         3.05   \n",
       "2  random de v.a iid   30000      0.041541        3.051267         3.05   \n",
       "3  random de v.a iid   40000      0.055040        3.053650         3.05   \n",
       "4  random de v.a iid   50000      0.070553        3.056180         3.05   \n",
       "5  random de v.a iid   60000      0.083549        3.053767         3.05   \n",
       "6  random de v.a iid   70000      0.095567        3.049214         3.05   \n",
       "7  random de v.a iid   80000      0.108577        3.045288         3.05   \n",
       "8  random de v.a iid   90000      0.123620        3.050411         3.05   \n",
       "9  random de v.a iid  100000      0.137607        3.049490         3.05   \n",
       "\n",
       "   erreur relative    ecart-type                          interval de conf  \n",
       "0         0.001115  6.382450e-14   [3.053399999999999, 3.0534000000000017]  \n",
       "1         0.001803  9.117841e-14   [3.044499999999999, 3.0445000000000015]  \n",
       "2         0.000415  2.392678e-13   [3.051266666666664, 3.0512666666666695]  \n",
       "3         0.001197  6.428902e-13   [3.053649999999994, 3.0536500000000064]  \n",
       "4         0.002026  1.686256e-13   [3.056179999999999, 3.0561800000000017]  \n",
       "5         0.001235  1.051480e-12   [3.0537666666666583, 3.053766666666675]  \n",
       "6         0.000258  1.914693e-12     [3.0492142857142714, 3.0492142857143]  \n",
       "7         0.001545  8.194313e-14  [3.0452874999999997, 3.0452875000000006]  \n",
       "8         0.000135  3.217486e-13   [3.050411111111109, 3.0504111111111136]  \n",
       "9         0.000167  1.268047e-12    [3.049489999999992, 3.049490000000008]  "
      ]
     },
     "execution_count": 265,
     "metadata": {},
     "output_type": "execute_result"
    }
   ],
   "source": [
    "df_loi_normale_continue"
   ]
  },
  {
   "cell_type": "markdown",
   "metadata": {},
   "source": [
    "### 2.1.2) loi normale en mesurant les proba décroissantes"
   ]
  },
  {
   "cell_type": "code",
   "execution_count": 266,
   "metadata": {
    "collapsed": true
   },
   "outputs": [],
   "source": [
    "esperance_reel = sum(esperance_par_xi_reel)\n",
    "data = []\n",
    "\n",
    "for n in tab_n:    \n",
    "    xi_simule = []\n",
    "    start = time.time()\n",
    "    \n",
    "    for i in range(n):\n",
    "        u = random.uniform(0,1)\n",
    "        x = returnX_reverse(u,probs,val)\n",
    "        xi_simule.append(x)\n",
    " \n",
    "    end          = time.time()\n",
    "    \n",
    "    moyenne_emp  = 1/n * (sum(xi_simule))\n",
    "    variance     = 1/n*(sum(map(lambda x : x - moyenne_emp, xi_simule))**2)\n",
    "    ecart_type   = math.sqrt(variance)\n",
    "    erreur_abs   = abs( (esperance_reel - moyenne_emp) / esperance_reel)\n",
    "    \n",
    "    cinterval_inf = moyenne_emp-(1.96*ecart_type/math.sqrt(n))\n",
    "    cinterval_sup = moyenne_emp+(1.96*ecart_type/math.sqrt(n))\n",
    "    confidence = [str(cinterval_inf),str(cinterval_sup)]\n",
    "    \n",
    "    data.append([\n",
    "          \"random de v.a iid\",n,abs(start-end),moyenne_emp,esperance_reel,abs(erreur_abs),ecart_type,confidence\n",
    "    ])\n",
    "    \n",
    "df_loi_normale_continue_reverse = pd.DataFrame(data,columns=[\"methode\",\"n\",\"temps ecoulé\",\"val. approchée\",\n",
    "                                        \"val. réelle\",\"erreur relative\",\"ecart-type\",\"interval de conf\"])"
   ]
  },
  {
   "cell_type": "code",
   "execution_count": 267,
   "metadata": {
    "collapsed": false
   },
   "outputs": [
    {
     "data": {
      "text/html": [
       "<div>\n",
       "<table border=\"1\" class=\"dataframe\">\n",
       "  <thead>\n",
       "    <tr style=\"text-align: right;\">\n",
       "      <th></th>\n",
       "      <th>methode</th>\n",
       "      <th>n</th>\n",
       "      <th>temps ecoulé</th>\n",
       "      <th>val. approchée</th>\n",
       "      <th>val. réelle</th>\n",
       "      <th>erreur relative</th>\n",
       "      <th>ecart-type</th>\n",
       "      <th>interval de conf</th>\n",
       "    </tr>\n",
       "  </thead>\n",
       "  <tbody>\n",
       "    <tr>\n",
       "      <th>0</th>\n",
       "      <td>random de v.a iid</td>\n",
       "      <td>10000</td>\n",
       "      <td>0.015010</td>\n",
       "      <td>3.067400</td>\n",
       "      <td>3.05</td>\n",
       "      <td>0.005705</td>\n",
       "      <td>8.665957e-14</td>\n",
       "      <td>[3.0673999999999984, 3.067400000000002]</td>\n",
       "    </tr>\n",
       "    <tr>\n",
       "      <th>1</th>\n",
       "      <td>random de v.a iid</td>\n",
       "      <td>20000</td>\n",
       "      <td>0.029521</td>\n",
       "      <td>3.052350</td>\n",
       "      <td>3.05</td>\n",
       "      <td>0.000770</td>\n",
       "      <td>4.760834e-14</td>\n",
       "      <td>[3.0523499999999997, 3.0523500000000006]</td>\n",
       "    </tr>\n",
       "    <tr>\n",
       "      <th>2</th>\n",
       "      <td>random de v.a iid</td>\n",
       "      <td>30000</td>\n",
       "      <td>0.045532</td>\n",
       "      <td>3.048967</td>\n",
       "      <td>3.05</td>\n",
       "      <td>0.000339</td>\n",
       "      <td>1.783791e-13</td>\n",
       "      <td>[3.0489666666666646, 3.048966666666669]</td>\n",
       "    </tr>\n",
       "    <tr>\n",
       "      <th>3</th>\n",
       "      <td>random de v.a iid</td>\n",
       "      <td>40000</td>\n",
       "      <td>0.058054</td>\n",
       "      <td>3.045550</td>\n",
       "      <td>3.05</td>\n",
       "      <td>0.001459</td>\n",
       "      <td>1.866840e-13</td>\n",
       "      <td>[3.045549999999998, 3.0455500000000018]</td>\n",
       "    </tr>\n",
       "    <tr>\n",
       "      <th>4</th>\n",
       "      <td>random de v.a iid</td>\n",
       "      <td>50000</td>\n",
       "      <td>0.074545</td>\n",
       "      <td>3.054800</td>\n",
       "      <td>3.05</td>\n",
       "      <td>0.001574</td>\n",
       "      <td>4.067384e-14</td>\n",
       "      <td>[3.0547999999999997, 3.0548000000000006]</td>\n",
       "    </tr>\n",
       "    <tr>\n",
       "      <th>5</th>\n",
       "      <td>random de v.a iid</td>\n",
       "      <td>60000</td>\n",
       "      <td>0.087566</td>\n",
       "      <td>3.048900</td>\n",
       "      <td>3.05</td>\n",
       "      <td>0.000361</td>\n",
       "      <td>6.363112e-13</td>\n",
       "      <td>[3.0488999999999953, 3.048900000000005]</td>\n",
       "    </tr>\n",
       "    <tr>\n",
       "      <th>6</th>\n",
       "      <td>random de v.a iid</td>\n",
       "      <td>70000</td>\n",
       "      <td>0.101567</td>\n",
       "      <td>3.048257</td>\n",
       "      <td>3.05</td>\n",
       "      <td>0.000571</td>\n",
       "      <td>2.668076e-13</td>\n",
       "      <td>[3.048257142857141, 3.0482571428571448]</td>\n",
       "    </tr>\n",
       "    <tr>\n",
       "      <th>7</th>\n",
       "      <td>random de v.a iid</td>\n",
       "      <td>80000</td>\n",
       "      <td>0.115585</td>\n",
       "      <td>3.050938</td>\n",
       "      <td>3.05</td>\n",
       "      <td>0.000307</td>\n",
       "      <td>5.621685e-13</td>\n",
       "      <td>[3.0509374999999963, 3.0509375000000043]</td>\n",
       "    </tr>\n",
       "    <tr>\n",
       "      <th>8</th>\n",
       "      <td>random de v.a iid</td>\n",
       "      <td>90000</td>\n",
       "      <td>0.130592</td>\n",
       "      <td>3.048867</td>\n",
       "      <td>3.05</td>\n",
       "      <td>0.000372</td>\n",
       "      <td>1.779252e-12</td>\n",
       "      <td>[3.048866666666655, 3.048866666666678]</td>\n",
       "    </tr>\n",
       "    <tr>\n",
       "      <th>9</th>\n",
       "      <td>random de v.a iid</td>\n",
       "      <td>100000</td>\n",
       "      <td>0.147102</td>\n",
       "      <td>3.052910</td>\n",
       "      <td>3.05</td>\n",
       "      <td>0.000954</td>\n",
       "      <td>7.108665e-13</td>\n",
       "      <td>[3.052909999999996, 3.0529100000000047]</td>\n",
       "    </tr>\n",
       "  </tbody>\n",
       "</table>\n",
       "</div>"
      ],
      "text/plain": [
       "             methode       n  temps ecoulé  val. approchée  val. réelle  \\\n",
       "0  random de v.a iid   10000      0.015010        3.067400         3.05   \n",
       "1  random de v.a iid   20000      0.029521        3.052350         3.05   \n",
       "2  random de v.a iid   30000      0.045532        3.048967         3.05   \n",
       "3  random de v.a iid   40000      0.058054        3.045550         3.05   \n",
       "4  random de v.a iid   50000      0.074545        3.054800         3.05   \n",
       "5  random de v.a iid   60000      0.087566        3.048900         3.05   \n",
       "6  random de v.a iid   70000      0.101567        3.048257         3.05   \n",
       "7  random de v.a iid   80000      0.115585        3.050938         3.05   \n",
       "8  random de v.a iid   90000      0.130592        3.048867         3.05   \n",
       "9  random de v.a iid  100000      0.147102        3.052910         3.05   \n",
       "\n",
       "   erreur relative    ecart-type                          interval de conf  \n",
       "0         0.005705  8.665957e-14   [3.0673999999999984, 3.067400000000002]  \n",
       "1         0.000770  4.760834e-14  [3.0523499999999997, 3.0523500000000006]  \n",
       "2         0.000339  1.783791e-13   [3.0489666666666646, 3.048966666666669]  \n",
       "3         0.001459  1.866840e-13   [3.045549999999998, 3.0455500000000018]  \n",
       "4         0.001574  4.067384e-14  [3.0547999999999997, 3.0548000000000006]  \n",
       "5         0.000361  6.363112e-13   [3.0488999999999953, 3.048900000000005]  \n",
       "6         0.000571  2.668076e-13   [3.048257142857141, 3.0482571428571448]  \n",
       "7         0.000307  5.621685e-13  [3.0509374999999963, 3.0509375000000043]  \n",
       "8         0.000372  1.779252e-12    [3.048866666666655, 3.048866666666678]  \n",
       "9         0.000954  7.108665e-13   [3.052909999999996, 3.0529100000000047]  "
      ]
     },
     "execution_count": 267,
     "metadata": {},
     "output_type": "execute_result"
    }
   ],
   "source": [
    "df_loi_normale_continue_reverse"
   ]
  },
  {
   "cell_type": "markdown",
   "metadata": {},
   "source": [
    "# 2.3) Comparaison des methodes "
   ]
  },
  {
   "cell_type": "code",
   "execution_count": 268,
   "metadata": {
    "collapsed": false
   },
   "outputs": [
    {
     "data": {
      "text/plain": [
       "\"\\n    On remarque dans ce graphe que la methode reverse (prob décroissante) est plus lente que le la methode croissante \\n    \\n    EN X: le temps ecoulé \\n    EN Y: le nombre d'individus pour chaque echantillon\\n\\n\""
      ]
     },
     "execution_count": 268,
     "metadata": {},
     "output_type": "execute_result"
    },
    {
     "data": {
      "image/png": "[encoded data removed]",
      "text/plain": [
       "<matplotlib.figure.Figure at 0x1a74d37a198>"
      ]
     },
     "metadata": {},
     "output_type": "display_data"
    }
   ],
   "source": [
    "''' \n",
    "\n",
    "VITESSE D'APPROXIMATION  \n",
    "\n",
    "'''\n",
    "sns.plt.plot(df_loi_normale_continue[\"temps ecoulé\"],tab_n) # EN BLEU\n",
    "sns.plt.plot(df_loi_normale_continue_reverse[\"temps ecoulé\"],tab_n) # EN VERT\n",
    "'''\n",
    "    On remarque dans ce graphe que la methode reverse (prob décroissante) est plus lente que le la methode croissante \n",
    "    vitesse(bleu) > vitesse(vert)\n",
    "    \n",
    "    EN X: le temps ecoulé \n",
    "    EN Y: le nombre d'individus pour chaque echantillon\n",
    "\n",
    "'''"
   ]
  },
  {
   "cell_type": "code",
   "execution_count": 271,
   "metadata": {
    "collapsed": false
   },
   "outputs": [
    {
     "data": {
      "text/plain": [
       "\"\\n    On remarque dans ce graphe que la methode de monte carlo est beaucoup plus précise que le comptage aléatoire\\n        \\n    EN X: le nombre d'individus pour chaque echantillon\\n    EN Y: le ratio d'erreur relative\\n\\n\""
      ]
     },
     "execution_count": 271,
     "metadata": {},
     "output_type": "execute_result"
    },
    {
     "data": {
      "image/png": "[encoded data removed]",
      "text/plain": [
       "<matplotlib.figure.Figure at 0x1a74fedc0f0>"
      ]
     },
     "metadata": {},
     "output_type": "display_data"
    }
   ],
   "source": [
    "''' \n",
    "\n",
    "PRECISION DE CONVERGENCE \n",
    "\n",
    "'''\n",
    "sns.plt.plot(tab_n,df_loi_normale_continue[\"erreur relative\"]) # EN BLEU loi normale ordered probs\n",
    "sns.plt.plot(tab_n,df_loi_normale_continue_reverse[\"erreur relative\"]) #VERT loi normale reversed probs\n",
    "'''\n",
    "    On remarque dans ce graphe que la methode de monte carlo est beaucoup plus précise que le comptage aléatoire\n",
    "        \n",
    "    EN X: le nombre d'individus pour chaque echantillon\n",
    "    EN Y: le ratio d'erreur relative\n",
    "\n",
    "'''"
   ]
  },
  {
   "cell_type": "markdown",
   "metadata": {},
   "source": [
    "# 3.1) Simulation de loi géometrique (pseudo inverse de la f.d.r)"
   ]
  },
  {
   "cell_type": "code",
   "execution_count": 272,
   "metadata": {
    "collapsed": true
   },
   "outputs": [],
   "source": [
    "data = []\n",
    "\n",
    "q = 0.7\n",
    "esperance_reel = 1/(1-q)\n",
    "\n",
    "for n in tab_n:\n",
    "    xi_simule = []\n",
    "    stack = 0\n",
    "    for index in range(n):\n",
    "        u = random.uniform(0,1)\n",
    "        i = 1 \n",
    "        while True:\n",
    "            if 1-(q**(i-1)) <= u < 1-(q**(i)):\n",
    "                break\n",
    "            else:\n",
    "                i+=1\n",
    "        xi_simule.append(i)\n",
    "        \n",
    "    moyenne_emp = 1/n * sum(xi_simule)\n",
    "    variance     = 1/n*(sum(map(lambda x : x - moyenne_emp, xi_simule))**2)\n",
    "    ecart_type   = math.sqrt(variance)\n",
    "    erreur_abs   = (esperance_reel - moyenne_emp) / esperance_reel\n",
    "    \n",
    "    cinterval_inf = moyenne_emp-(1.96*ecart_type/math.sqrt(n))\n",
    "    cinterval_sup = moyenne_emp+(1.96*ecart_type/math.sqrt(n))\n",
    "    confidence = [str(cinterval_inf),str(cinterval_sup)]\n",
    "    \n",
    "    data.append([\n",
    "          \"invers fdr geo\",n,abs(start-end),moyenne_emp,esperance_reel,abs(erreur_abs),ecart_type,confidence\n",
    "    ])\n",
    "    \n",
    "df_loi_geom_inv_fdr = pd.DataFrame(data,columns=[\"methode\",\"n\",\"temps ecoulé\",\"val. approchée\",\n",
    "                                        \"val. réelle\",\"erreur relative\",\"ecart-type\",\"interval de conf\"])\n",
    "    \n",
    "    \n",
    "    "
   ]
  },
  {
   "cell_type": "code",
   "execution_count": 273,
   "metadata": {
    "collapsed": false
   },
   "outputs": [
    {
     "data": {
      "text/html": [
       "<div>\n",
       "<table border=\"1\" class=\"dataframe\">\n",
       "  <thead>\n",
       "    <tr style=\"text-align: right;\">\n",
       "      <th></th>\n",
       "      <th>methode</th>\n",
       "      <th>n</th>\n",
       "      <th>temps ecoulé</th>\n",
       "      <th>val. approchée</th>\n",
       "      <th>val. réelle</th>\n",
       "      <th>erreur relative</th>\n",
       "      <th>ecart-type</th>\n",
       "      <th>interval de conf</th>\n",
       "    </tr>\n",
       "  </thead>\n",
       "  <tbody>\n",
       "    <tr>\n",
       "      <th>0</th>\n",
       "      <td>invers fdr geo</td>\n",
       "      <td>10000</td>\n",
       "      <td>0.147102</td>\n",
       "      <td>3.332000</td>\n",
       "      <td>3.333333</td>\n",
       "      <td>0.000400</td>\n",
       "      <td>2.002620e-13</td>\n",
       "      <td>[3.3319999999999963, 3.3320000000000043]</td>\n",
       "    </tr>\n",
       "    <tr>\n",
       "      <th>1</th>\n",
       "      <td>invers fdr geo</td>\n",
       "      <td>20000</td>\n",
       "      <td>0.147102</td>\n",
       "      <td>3.299700</td>\n",
       "      <td>3.333333</td>\n",
       "      <td>0.010090</td>\n",
       "      <td>2.516293e-13</td>\n",
       "      <td>[3.2996999999999965, 3.2997000000000036]</td>\n",
       "    </tr>\n",
       "    <tr>\n",
       "      <th>2</th>\n",
       "      <td>invers fdr geo</td>\n",
       "      <td>30000</td>\n",
       "      <td>0.147102</td>\n",
       "      <td>3.364533</td>\n",
       "      <td>3.333333</td>\n",
       "      <td>0.009360</td>\n",
       "      <td>7.777333e-13</td>\n",
       "      <td>[3.3645333333333247, 3.3645333333333425]</td>\n",
       "    </tr>\n",
       "    <tr>\n",
       "      <th>3</th>\n",
       "      <td>invers fdr geo</td>\n",
       "      <td>40000</td>\n",
       "      <td>0.147102</td>\n",
       "      <td>3.337025</td>\n",
       "      <td>3.333333</td>\n",
       "      <td>0.001108</td>\n",
       "      <td>2.440159e-13</td>\n",
       "      <td>[3.337024999999998, 3.3370250000000024]</td>\n",
       "    </tr>\n",
       "    <tr>\n",
       "      <th>4</th>\n",
       "      <td>invers fdr geo</td>\n",
       "      <td>50000</td>\n",
       "      <td>0.147102</td>\n",
       "      <td>3.324140</td>\n",
       "      <td>3.333333</td>\n",
       "      <td>0.002758</td>\n",
       "      <td>2.590375e-14</td>\n",
       "      <td>[3.32414, 3.3241400000000008]</td>\n",
       "    </tr>\n",
       "    <tr>\n",
       "      <th>5</th>\n",
       "      <td>invers fdr geo</td>\n",
       "      <td>60000</td>\n",
       "      <td>0.147102</td>\n",
       "      <td>3.322983</td>\n",
       "      <td>3.333333</td>\n",
       "      <td>0.003105</td>\n",
       "      <td>3.639219e-12</td>\n",
       "      <td>[3.3229833333333043, 3.322983333333363]</td>\n",
       "    </tr>\n",
       "    <tr>\n",
       "      <th>6</th>\n",
       "      <td>invers fdr geo</td>\n",
       "      <td>70000</td>\n",
       "      <td>0.147102</td>\n",
       "      <td>3.325371</td>\n",
       "      <td>3.333333</td>\n",
       "      <td>0.002389</td>\n",
       "      <td>2.431441e-13</td>\n",
       "      <td>[3.325371428571427, 3.3253714285714304]</td>\n",
       "    </tr>\n",
       "    <tr>\n",
       "      <th>7</th>\n",
       "      <td>invers fdr geo</td>\n",
       "      <td>80000</td>\n",
       "      <td>0.147102</td>\n",
       "      <td>3.329462</td>\n",
       "      <td>3.333333</td>\n",
       "      <td>0.001161</td>\n",
       "      <td>3.392505e-12</td>\n",
       "      <td>[3.3294624999999765, 3.3294625000000235]</td>\n",
       "    </tr>\n",
       "    <tr>\n",
       "      <th>8</th>\n",
       "      <td>invers fdr geo</td>\n",
       "      <td>90000</td>\n",
       "      <td>0.147102</td>\n",
       "      <td>3.341056</td>\n",
       "      <td>3.333333</td>\n",
       "      <td>0.002317</td>\n",
       "      <td>5.033852e-12</td>\n",
       "      <td>[3.341055555555523, 3.3410555555555885]</td>\n",
       "    </tr>\n",
       "    <tr>\n",
       "      <th>9</th>\n",
       "      <td>invers fdr geo</td>\n",
       "      <td>100000</td>\n",
       "      <td>0.147102</td>\n",
       "      <td>3.328720</td>\n",
       "      <td>3.333333</td>\n",
       "      <td>0.001384</td>\n",
       "      <td>1.672773e-12</td>\n",
       "      <td>[3.32871999999999, 3.3287200000000103]</td>\n",
       "    </tr>\n",
       "  </tbody>\n",
       "</table>\n",
       "</div>"
      ],
      "text/plain": [
       "          methode       n  temps ecoulé  val. approchée  val. réelle  \\\n",
       "0  invers fdr geo   10000      0.147102        3.332000     3.333333   \n",
       "1  invers fdr geo   20000      0.147102        3.299700     3.333333   \n",
       "2  invers fdr geo   30000      0.147102        3.364533     3.333333   \n",
       "3  invers fdr geo   40000      0.147102        3.337025     3.333333   \n",
       "4  invers fdr geo   50000      0.147102        3.324140     3.333333   \n",
       "5  invers fdr geo   60000      0.147102        3.322983     3.333333   \n",
       "6  invers fdr geo   70000      0.147102        3.325371     3.333333   \n",
       "7  invers fdr geo   80000      0.147102        3.329462     3.333333   \n",
       "8  invers fdr geo   90000      0.147102        3.341056     3.333333   \n",
       "9  invers fdr geo  100000      0.147102        3.328720     3.333333   \n",
       "\n",
       "   erreur relative    ecart-type                          interval de conf  \n",
       "0         0.000400  2.002620e-13  [3.3319999999999963, 3.3320000000000043]  \n",
       "1         0.010090  2.516293e-13  [3.2996999999999965, 3.2997000000000036]  \n",
       "2         0.009360  7.777333e-13  [3.3645333333333247, 3.3645333333333425]  \n",
       "3         0.001108  2.440159e-13   [3.337024999999998, 3.3370250000000024]  \n",
       "4         0.002758  2.590375e-14             [3.32414, 3.3241400000000008]  \n",
       "5         0.003105  3.639219e-12   [3.3229833333333043, 3.322983333333363]  \n",
       "6         0.002389  2.431441e-13   [3.325371428571427, 3.3253714285714304]  \n",
       "7         0.001161  3.392505e-12  [3.3294624999999765, 3.3294625000000235]  \n",
       "8         0.002317  5.033852e-12   [3.341055555555523, 3.3410555555555885]  \n",
       "9         0.001384  1.672773e-12    [3.32871999999999, 3.3287200000000103]  "
      ]
     },
     "execution_count": 273,
     "metadata": {},
     "output_type": "execute_result"
    }
   ],
   "source": [
    "df_loi_geom_inv_fdr"
   ]
  },
  {
   "cell_type": "markdown",
   "metadata": {
    "collapsed": false
   },
   "source": [
    "# 3.2) Simulation de loi géometrique par la formule LN "
   ]
  },
  {
   "cell_type": "code",
   "execution_count": 274,
   "metadata": {
    "collapsed": false
   },
   "outputs": [],
   "source": [
    "esperance_reel = 1/(1-q)\n",
    "data = []\n",
    "for n in tab_n:\n",
    "    xi_simule = []\n",
    "    \n",
    "    start = time.time()\n",
    "    \n",
    "    for index in range(n):\n",
    "        \n",
    "        xi = math.log( (1-random.uniform(0,1)) ) / math.log(q)\n",
    "        xi_simule.append(xi)\n",
    "    \n",
    "    end = time.time()\n",
    "    \n",
    "    moyenne_emp = 1/n * sum(xi_simule)\n",
    "    variance     = 1/n*(sum(map(lambda x : x - moyenne_emp, xi_simule))**2)\n",
    "    ecart_type   = math.sqrt(variance)\n",
    "    erreur_abs   = (esperance_reel - moyenne_emp) / esperance_reel\n",
    "\n",
    "    cinterval_inf = moyenne_emp-(1.96*ecart_type/math.sqrt(n))\n",
    "    cinterval_sup = moyenne_emp+(1.96*ecart_type/math.sqrt(n))\n",
    "    confidence = [str(cinterval_inf),str(cinterval_sup)]\n",
    "    \n",
    "    data.append([\n",
    "          \"Loi geo app. par LN\",n,abs(start-end),moyenne_emp,esperance_reel,abs(erreur_abs),ecart_type,confidence\n",
    "    ])\n",
    "    \n",
    "df_loi_geom_LN = pd.DataFrame(data,columns=[\"methode\",\"n\",\"temps ecoulé\",\"val. approchée\",\n",
    "                                        \"val. réelle\",\"erreur relative\",\"ecart-type\",\"interval de conf\"])\n",
    "    "
   ]
  },
  {
   "cell_type": "code",
   "execution_count": 275,
   "metadata": {
    "collapsed": false
   },
   "outputs": [
    {
     "data": {
      "text/html": [
       "<div>\n",
       "<table border=\"1\" class=\"dataframe\">\n",
       "  <thead>\n",
       "    <tr style=\"text-align: right;\">\n",
       "      <th></th>\n",
       "      <th>methode</th>\n",
       "      <th>n</th>\n",
       "      <th>temps ecoulé</th>\n",
       "      <th>val. approchée</th>\n",
       "      <th>val. réelle</th>\n",
       "      <th>erreur relative</th>\n",
       "      <th>ecart-type</th>\n",
       "      <th>interval de conf</th>\n",
       "    </tr>\n",
       "  </thead>\n",
       "  <tbody>\n",
       "    <tr>\n",
       "      <th>0</th>\n",
       "      <td>Loi geo app. par LN</td>\n",
       "      <td>10000</td>\n",
       "      <td>0.010508</td>\n",
       "      <td>2.794078</td>\n",
       "      <td>3.333333</td>\n",
       "      <td>0.161777</td>\n",
       "      <td>8.124168e-14</td>\n",
       "      <td>[2.794078224532121, 2.7940782245321247]</td>\n",
       "    </tr>\n",
       "    <tr>\n",
       "      <th>1</th>\n",
       "      <td>Loi geo app. par LN</td>\n",
       "      <td>20000</td>\n",
       "      <td>0.020510</td>\n",
       "      <td>2.836328</td>\n",
       "      <td>3.333333</td>\n",
       "      <td>0.149102</td>\n",
       "      <td>1.029533e-12</td>\n",
       "      <td>[2.8363276558154187, 2.836327655815447]</td>\n",
       "    </tr>\n",
       "    <tr>\n",
       "      <th>2</th>\n",
       "      <td>Loi geo app. par LN</td>\n",
       "      <td>30000</td>\n",
       "      <td>0.034014</td>\n",
       "      <td>2.806754</td>\n",
       "      <td>3.333333</td>\n",
       "      <td>0.157974</td>\n",
       "      <td>2.547656e-12</td>\n",
       "      <td>[2.8067544444551227, 2.8067544444551804]</td>\n",
       "    </tr>\n",
       "    <tr>\n",
       "      <th>3</th>\n",
       "      <td>Loi geo app. par LN</td>\n",
       "      <td>40000</td>\n",
       "      <td>0.040528</td>\n",
       "      <td>2.792115</td>\n",
       "      <td>3.333333</td>\n",
       "      <td>0.162366</td>\n",
       "      <td>3.001299e-12</td>\n",
       "      <td>[2.7921148774419953, 2.792114877442054]</td>\n",
       "    </tr>\n",
       "    <tr>\n",
       "      <th>4</th>\n",
       "      <td>Loi geo app. par LN</td>\n",
       "      <td>50000</td>\n",
       "      <td>0.049535</td>\n",
       "      <td>2.775684</td>\n",
       "      <td>3.333333</td>\n",
       "      <td>0.167295</td>\n",
       "      <td>2.654754e-12</td>\n",
       "      <td>[2.775683509031835, 2.775683509031881]</td>\n",
       "    </tr>\n",
       "    <tr>\n",
       "      <th>5</th>\n",
       "      <td>Loi geo app. par LN</td>\n",
       "      <td>60000</td>\n",
       "      <td>0.060542</td>\n",
       "      <td>2.782720</td>\n",
       "      <td>3.333333</td>\n",
       "      <td>0.165184</td>\n",
       "      <td>4.071107e-12</td>\n",
       "      <td>[2.782720086094797, 2.7827200860948618]</td>\n",
       "    </tr>\n",
       "    <tr>\n",
       "      <th>6</th>\n",
       "      <td>Loi geo app. par LN</td>\n",
       "      <td>70000</td>\n",
       "      <td>0.070549</td>\n",
       "      <td>2.788864</td>\n",
       "      <td>3.333333</td>\n",
       "      <td>0.163341</td>\n",
       "      <td>7.432727e-12</td>\n",
       "      <td>[2.7888642470024028, 2.788864247002513]</td>\n",
       "    </tr>\n",
       "    <tr>\n",
       "      <th>7</th>\n",
       "      <td>Loi geo app. par LN</td>\n",
       "      <td>80000</td>\n",
       "      <td>0.078054</td>\n",
       "      <td>2.785146</td>\n",
       "      <td>3.333333</td>\n",
       "      <td>0.164456</td>\n",
       "      <td>1.179523e-12</td>\n",
       "      <td>[2.785146180238019, 2.785146180238035]</td>\n",
       "    </tr>\n",
       "    <tr>\n",
       "      <th>8</th>\n",
       "      <td>Loi geo app. par LN</td>\n",
       "      <td>90000</td>\n",
       "      <td>0.087561</td>\n",
       "      <td>2.808323</td>\n",
       "      <td>3.333333</td>\n",
       "      <td>0.157503</td>\n",
       "      <td>1.103550e-11</td>\n",
       "      <td>[2.808322501828783, 2.808322501828927]</td>\n",
       "    </tr>\n",
       "    <tr>\n",
       "      <th>9</th>\n",
       "      <td>Loi geo app. par LN</td>\n",
       "      <td>100000</td>\n",
       "      <td>0.098069</td>\n",
       "      <td>2.805650</td>\n",
       "      <td>3.333333</td>\n",
       "      <td>0.158305</td>\n",
       "      <td>1.397633e-12</td>\n",
       "      <td>[2.8056504708986725, 2.8056504708986902]</td>\n",
       "    </tr>\n",
       "  </tbody>\n",
       "</table>\n",
       "</div>"
      ],
      "text/plain": [
       "               methode       n  temps ecoulé  val. approchée  val. réelle  \\\n",
       "0  Loi geo app. par LN   10000      0.010508        2.794078     3.333333   \n",
       "1  Loi geo app. par LN   20000      0.020510        2.836328     3.333333   \n",
       "2  Loi geo app. par LN   30000      0.034014        2.806754     3.333333   \n",
       "3  Loi geo app. par LN   40000      0.040528        2.792115     3.333333   \n",
       "4  Loi geo app. par LN   50000      0.049535        2.775684     3.333333   \n",
       "5  Loi geo app. par LN   60000      0.060542        2.782720     3.333333   \n",
       "6  Loi geo app. par LN   70000      0.070549        2.788864     3.333333   \n",
       "7  Loi geo app. par LN   80000      0.078054        2.785146     3.333333   \n",
       "8  Loi geo app. par LN   90000      0.087561        2.808323     3.333333   \n",
       "9  Loi geo app. par LN  100000      0.098069        2.805650     3.333333   \n",
       "\n",
       "   erreur relative    ecart-type                          interval de conf  \n",
       "0         0.161777  8.124168e-14   [2.794078224532121, 2.7940782245321247]  \n",
       "1         0.149102  1.029533e-12   [2.8363276558154187, 2.836327655815447]  \n",
       "2         0.157974  2.547656e-12  [2.8067544444551227, 2.8067544444551804]  \n",
       "3         0.162366  3.001299e-12   [2.7921148774419953, 2.792114877442054]  \n",
       "4         0.167295  2.654754e-12    [2.775683509031835, 2.775683509031881]  \n",
       "5         0.165184  4.071107e-12   [2.782720086094797, 2.7827200860948618]  \n",
       "6         0.163341  7.432727e-12   [2.7888642470024028, 2.788864247002513]  \n",
       "7         0.164456  1.179523e-12    [2.785146180238019, 2.785146180238035]  \n",
       "8         0.157503  1.103550e-11    [2.808322501828783, 2.808322501828927]  \n",
       "9         0.158305  1.397633e-12  [2.8056504708986725, 2.8056504708986902]  "
      ]
     },
     "execution_count": 275,
     "metadata": {},
     "output_type": "execute_result"
    }
   ],
   "source": [
    "df_loi_geom_LN"
   ]
  },
  {
   "cell_type": "markdown",
   "metadata": {},
   "source": [
    "# 3.3) Comparaison des methodes"
   ]
  },
  {
   "cell_type": "code",
   "execution_count": 276,
   "metadata": {
    "collapsed": false
   },
   "outputs": [
    {
     "data": {
      "text/plain": [
       "\"\\n    \\n    EN X: le temps ecoulé \\n    EN Y: le nombre d'individus pour chaque echantillon\\n\\n\""
      ]
     },
     "execution_count": 276,
     "metadata": {},
     "output_type": "execute_result"
    },
    {
     "data": {
      "image/png": "[encoded data removed]",
      "text/plain": [
       "<matplotlib.figure.Figure at 0x1a74fd52400>"
      ]
     },
     "metadata": {},
     "output_type": "display_data"
    }
   ],
   "source": [
    "''' \n",
    "\n",
    "VITESSE D'APPROXIMATION  \n",
    "\n",
    "'''\n",
    "sns.plt.plot(df_loi_geom_inv_fdr[\"temps ecoulé\"],tab_n) # EN BLEU, inverse de fdr\n",
    "sns.plt.plot(df_loi_geom_LN[\"temps ecoulé\"],tab_n) # EN VERT, ln(1-q)/ln(q)\n",
    "'''\n",
    "    \n",
    "    EN X: le temps ecoulé \n",
    "    EN Y: le nombre d'individus pour chaque echantillon\n",
    "\n",
    "'''"
   ]
  },
  {
   "cell_type": "code",
   "execution_count": 277,
   "metadata": {
    "collapsed": false
   },
   "outputs": [
    {
     "data": {
      "text/plain": [
       "\"\\n        \\n    EN X: le nombre d'individus pour chaque echantillon\\n    EN Y: le ratio d'erreur relative\\n\\n\""
      ]
     },
     "execution_count": 277,
     "metadata": {},
     "output_type": "execute_result"
    },
    {
     "data": {
      "image/png": "[encoded data removed]",
      "text/plain": [
       "<matplotlib.figure.Figure at 0x1a751ffa940>"
      ]
     },
     "metadata": {},
     "output_type": "display_data"
    }
   ],
   "source": [
    "''' \n",
    "\n",
    "PRECISION DE CONVERGENCE \n",
    "\n",
    "'''\n",
    "sns.plt.plot(tab_n,df_loi_geom_inv_fdr[\"erreur relative\"])  # EN BLEU, inverse de fdr\n",
    "sns.plt.plot(tab_n,df_loi_geom_LN[\"erreur relative\"])  # EN VERT, ln(1-q)/ln(q)\n",
    "'''\n",
    "        \n",
    "    EN X: le nombre d'individus pour chaque echantillon\n",
    "    EN Y: le ratio d'erreur relative\n",
    "\n",
    "'''"
   ]
  }
 ],
 "metadata": {
  "anaconda-cloud": {},
  "kernelspec": {
   "display_name": "Python [conda root]",
   "language": "python",
   "name": "conda-root-py"
  },
  "language_info": {
   "codemirror_mode": {
    "name": "ipython",
    "version": 3
   },
   "file_extension": ".py",
   "mimetype": "text/x-python",
   "name": "python",
   "nbconvert_exporter": "python",
   "pygments_lexer": "ipython3",
   "version": "3.5.2"
  }
 },
 "nbformat": 4,
 "nbformat_minor": 1
}
