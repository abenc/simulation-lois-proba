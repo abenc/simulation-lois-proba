{
 "cells": [
  {
   "cell_type": "code",
   "execution_count": 1,
   "metadata": {
    "collapsed": true
   },
   "outputs": [],
   "source": [
    "import math\n",
    "import time\n",
    "import random\n",
    "import numpy as np\n",
    "import pandas as pd\n",
    "import pylab \n",
    "import scipy.stats as stats"
   ]
  },
  {
   "cell_type": "code",
   "execution_count": null,
   "metadata": {
    "collapsed": true
   },
   "outputs": [],
   "source": []
  },
  {
   "cell_type": "code",
   "execution_count": 2,
   "metadata": {
    "collapsed": false
   },
   "outputs": [],
   "source": [
    "import matplotlib.pyplot as plt\n",
    "import seaborn as sns\n",
    "sns.set_style('whitegrid')\n",
    "%matplotlib inline"
   ]
  },
  {
   "cell_type": "code",
   "execution_count": 3,
   "metadata": {
    "collapsed": true
   },
   "outputs": [],
   "source": [
    "                                            '''\n",
    "            Fonction qui permet de diviser un echantillon de taille n entre 0 et 1 \n",
    "                                            '''\n",
    "def xfrange(start, stop, step):\n",
    "    index = 0\n",
    "    while start + index * step < stop:\n",
    "        yield start + index * step\n",
    "        index += 1"
   ]
  },
  {
   "cell_type": "code",
   "execution_count": 4,
   "metadata": {
    "collapsed": true
   },
   "outputs": [],
   "source": [
    "tab_n = list(range(10000 , 110000,10000)) #liste du nombres a considerer par echantillon [10000,100000, ...]"
   ]
  },
  {
   "cell_type": "markdown",
   "metadata": {
    "collapsed": false
   },
   "source": [
    "# 1.1) Simulation par Monte Carlo"
   ]
  },
  {
   "cell_type": "code",
   "execution_count": 5,
   "metadata": {
    "collapsed": true
   },
   "outputs": [],
   "source": [
    "                                            '''\n",
    "                                    Fonction a approcher\n",
    "                                            '''\n",
    "def f(x): \n",
    "    return math.sqrt(1-(x*x))"
   ]
  },
  {
   "cell_type": "code",
   "execution_count": 6,
   "metadata": {
    "collapsed": false
   },
   "outputs": [],
   "source": [
    "data = []\n",
    "interval_inf = 0\n",
    "interval_sup = 1\n",
    "\n",
    "for n in tab_n:\n",
    "\n",
    "    start = time.time()\n",
    "    surface    = 0\n",
    "    dx         = (interval_sup - interval_inf) / n \n",
    "    xi_simule  = []\n",
    "    for x in xfrange(0,1,dx):\n",
    "        xi_simule.append(f(x)*dx)\n",
    "        surface = surface + f(x)*dx \n",
    "        \n",
    "    end          = time.time()\n",
    "    moyenne_emp  = surface\n",
    "    surface      = surface*4\n",
    "    \n",
    "    \n",
    "    erreur_abs   = abs((math.pi- surface))\n",
    "    erreur_rel   = (surface-math.pi)/ math.pi\n",
    "    \n",
    "    variance     = 1/n*(sum(map(lambda x : x - moyenne_emp, xi_simule))**2)\n",
    "    ecart_type   = math.sqrt(variance)\n",
    "    cinterval_inf = moyenne_emp-(1.96*ecart_type/math.sqrt(n))\n",
    "    cinterval_sup = moyenne_emp+(1.96*ecart_type/math.sqrt(n))\n",
    "    confidence = [interval_inf,interval_sup]\n",
    "    \n",
    "    data.append([\n",
    "          \"Monte Carlo\",n,abs(start-end),surface,math.pi,erreur_rel,erreur_abs,confidence\n",
    "     ])\n",
    "    \n",
    "df_monte_carlo = pd.DataFrame(data,columns=[\"methode\",\"n\",\"temps ecoulé\",\"val. approchée\",\n",
    "                                            \"val. réelle\",\"erreur relative\",\"erreur absolue\",\"interval de conf\"])"
   ]
  },
  {
   "cell_type": "code",
   "execution_count": 7,
   "metadata": {
    "collapsed": false
   },
   "outputs": [
    {
     "data": {
      "text/html": [
       "<div>\n",
       "<table border=\"1\" class=\"dataframe\">\n",
       "  <thead>\n",
       "    <tr style=\"text-align: right;\">\n",
       "      <th></th>\n",
       "      <th>methode</th>\n",
       "      <th>n</th>\n",
       "      <th>temps ecoulé</th>\n",
       "      <th>val. approchée</th>\n",
       "      <th>val. réelle</th>\n",
       "      <th>erreur relative</th>\n",
       "      <th>erreur absolue</th>\n",
       "      <th>interval de conf</th>\n",
       "    </tr>\n",
       "  </thead>\n",
       "  <tbody>\n",
       "    <tr>\n",
       "      <th>0</th>\n",
       "      <td>Monte Carlo</td>\n",
       "      <td>10000</td>\n",
       "      <td>0.011992</td>\n",
       "      <td>3.141791</td>\n",
       "      <td>3.141593</td>\n",
       "      <td>0.000063</td>\n",
       "      <td>0.000199</td>\n",
       "      <td>[0, 1]</td>\n",
       "    </tr>\n",
       "    <tr>\n",
       "      <th>1</th>\n",
       "      <td>Monte Carlo</td>\n",
       "      <td>20000</td>\n",
       "      <td>0.023015</td>\n",
       "      <td>3.141692</td>\n",
       "      <td>3.141593</td>\n",
       "      <td>0.000032</td>\n",
       "      <td>0.000100</td>\n",
       "      <td>[0, 1]</td>\n",
       "    </tr>\n",
       "    <tr>\n",
       "      <th>2</th>\n",
       "      <td>Monte Carlo</td>\n",
       "      <td>30000</td>\n",
       "      <td>0.039027</td>\n",
       "      <td>3.141659</td>\n",
       "      <td>3.141593</td>\n",
       "      <td>0.000021</td>\n",
       "      <td>0.000066</td>\n",
       "      <td>[0, 1]</td>\n",
       "    </tr>\n",
       "    <tr>\n",
       "      <th>3</th>\n",
       "      <td>Monte Carlo</td>\n",
       "      <td>40000</td>\n",
       "      <td>0.045040</td>\n",
       "      <td>3.141643</td>\n",
       "      <td>3.141593</td>\n",
       "      <td>0.000016</td>\n",
       "      <td>0.000050</td>\n",
       "      <td>[0, 1]</td>\n",
       "    </tr>\n",
       "    <tr>\n",
       "      <th>4</th>\n",
       "      <td>Monte Carlo</td>\n",
       "      <td>50000</td>\n",
       "      <td>0.056039</td>\n",
       "      <td>3.141633</td>\n",
       "      <td>3.141593</td>\n",
       "      <td>0.000013</td>\n",
       "      <td>0.000040</td>\n",
       "      <td>[0, 1]</td>\n",
       "    </tr>\n",
       "    <tr>\n",
       "      <th>5</th>\n",
       "      <td>Monte Carlo</td>\n",
       "      <td>60000</td>\n",
       "      <td>0.066046</td>\n",
       "      <td>3.141626</td>\n",
       "      <td>3.141593</td>\n",
       "      <td>0.000011</td>\n",
       "      <td>0.000033</td>\n",
       "      <td>[0, 1]</td>\n",
       "    </tr>\n",
       "    <tr>\n",
       "      <th>6</th>\n",
       "      <td>Monte Carlo</td>\n",
       "      <td>70000</td>\n",
       "      <td>0.076053</td>\n",
       "      <td>3.141621</td>\n",
       "      <td>3.141593</td>\n",
       "      <td>0.000009</td>\n",
       "      <td>0.000029</td>\n",
       "      <td>[0, 1]</td>\n",
       "    </tr>\n",
       "    <tr>\n",
       "      <th>7</th>\n",
       "      <td>Monte Carlo</td>\n",
       "      <td>80000</td>\n",
       "      <td>0.086061</td>\n",
       "      <td>3.141618</td>\n",
       "      <td>3.141593</td>\n",
       "      <td>0.000008</td>\n",
       "      <td>0.000025</td>\n",
       "      <td>[0, 1]</td>\n",
       "    </tr>\n",
       "    <tr>\n",
       "      <th>8</th>\n",
       "      <td>Monte Carlo</td>\n",
       "      <td>90000</td>\n",
       "      <td>0.098069</td>\n",
       "      <td>3.141615</td>\n",
       "      <td>3.141593</td>\n",
       "      <td>0.000007</td>\n",
       "      <td>0.000022</td>\n",
       "      <td>[0, 1]</td>\n",
       "    </tr>\n",
       "    <tr>\n",
       "      <th>9</th>\n",
       "      <td>Monte Carlo</td>\n",
       "      <td>100000</td>\n",
       "      <td>0.108076</td>\n",
       "      <td>3.141613</td>\n",
       "      <td>3.141593</td>\n",
       "      <td>0.000006</td>\n",
       "      <td>0.000020</td>\n",
       "      <td>[0, 1]</td>\n",
       "    </tr>\n",
       "  </tbody>\n",
       "</table>\n",
       "</div>"
      ],
      "text/plain": [
       "       methode       n  temps ecoulé  val. approchée  val. réelle  \\\n",
       "0  Monte Carlo   10000      0.011992        3.141791     3.141593   \n",
       "1  Monte Carlo   20000      0.023015        3.141692     3.141593   \n",
       "2  Monte Carlo   30000      0.039027        3.141659     3.141593   \n",
       "3  Monte Carlo   40000      0.045040        3.141643     3.141593   \n",
       "4  Monte Carlo   50000      0.056039        3.141633     3.141593   \n",
       "5  Monte Carlo   60000      0.066046        3.141626     3.141593   \n",
       "6  Monte Carlo   70000      0.076053        3.141621     3.141593   \n",
       "7  Monte Carlo   80000      0.086061        3.141618     3.141593   \n",
       "8  Monte Carlo   90000      0.098069        3.141615     3.141593   \n",
       "9  Monte Carlo  100000      0.108076        3.141613     3.141593   \n",
       "\n",
       "   erreur relative  erreur absolue interval de conf  \n",
       "0         0.000063        0.000199           [0, 1]  \n",
       "1         0.000032        0.000100           [0, 1]  \n",
       "2         0.000021        0.000066           [0, 1]  \n",
       "3         0.000016        0.000050           [0, 1]  \n",
       "4         0.000013        0.000040           [0, 1]  \n",
       "5         0.000011        0.000033           [0, 1]  \n",
       "6         0.000009        0.000029           [0, 1]  \n",
       "7         0.000008        0.000025           [0, 1]  \n",
       "8         0.000007        0.000022           [0, 1]  \n",
       "9         0.000006        0.000020           [0, 1]  "
      ]
     },
     "execution_count": 7,
     "metadata": {},
     "output_type": "execute_result"
    }
   ],
   "source": [
    "df_monte_carlo"
   ]
  },
  {
   "cell_type": "markdown",
   "metadata": {
    "collapsed": false
   },
   "source": [
    "# 1.2) Simulation par jet aléatoire"
   ]
  },
  {
   "cell_type": "code",
   "execution_count": 8,
   "metadata": {
    "collapsed": false
   },
   "outputs": [],
   "source": [
    "data = []\n",
    "start = time.time()\n",
    "for n in tab_n:\n",
    "    cpt = 0.0\n",
    "    xi_simule = []\n",
    "    for i in range(0,n):\n",
    "        x = random.uniform(-1,1)\n",
    "        y = random.uniform(-1,1)\n",
    "        if( x*x+y*y <= 1):\n",
    "            cpt = cpt+1\n",
    "            xi_simule.append(1)\n",
    "            \n",
    "    end        = time.time()\n",
    "    \n",
    "    surface    = cpt*4/n\n",
    "    erreur_abs = abs((math.pi- surface))\n",
    "    erreur_rel   = (surface-math.pi)/ math.pi\n",
    "    \n",
    "    moyenne_emp = 1/n*cpt\n",
    "    variance     = 1/n*(sum(map(lambda x : x - moyenne_emp, xi_simule))**2)\n",
    "    ecart_type   = math.sqrt(variance)\n",
    "    \n",
    "    cinterval_inf = moyenne_emp-(1.96*ecart_type/math.sqrt(n))\n",
    "    cinterval_sup = moyenne_emp+(1.96*ecart_type/math.sqrt(n))\n",
    "    confidence = [interval_inf,interval_sup]\n",
    "    \n",
    "    data.append([\n",
    "          \"Jet aléatoire\",n,abs(start-end),surface,math.pi,erreur_rel,erreur_abs,confidence\n",
    "     ])\n",
    "    \n",
    "df_jet_aleatoire = pd.DataFrame(data,columns=[\"methode\",\"n\",\"temps ecoulé\",\"val. approchée\",\n",
    "                                        \"val. réelle\",\"erreur relative\",\"erreur absolue\",\"interval de conf\"])"
   ]
  },
  {
   "cell_type": "code",
   "execution_count": 9,
   "metadata": {
    "collapsed": false
   },
   "outputs": [
    {
     "data": {
      "text/html": [
       "<div>\n",
       "<table border=\"1\" class=\"dataframe\">\n",
       "  <thead>\n",
       "    <tr style=\"text-align: right;\">\n",
       "      <th></th>\n",
       "      <th>methode</th>\n",
       "      <th>n</th>\n",
       "      <th>temps ecoulé</th>\n",
       "      <th>val. approchée</th>\n",
       "      <th>val. réelle</th>\n",
       "      <th>erreur relative</th>\n",
       "      <th>erreur absolue</th>\n",
       "      <th>interval de conf</th>\n",
       "    </tr>\n",
       "  </thead>\n",
       "  <tbody>\n",
       "    <tr>\n",
       "      <th>0</th>\n",
       "      <td>Jet aléatoire</td>\n",
       "      <td>10000</td>\n",
       "      <td>0.011008</td>\n",
       "      <td>3.102400</td>\n",
       "      <td>3.141593</td>\n",
       "      <td>-0.012475</td>\n",
       "      <td>0.039193</td>\n",
       "      <td>[0, 1]</td>\n",
       "    </tr>\n",
       "    <tr>\n",
       "      <th>1</th>\n",
       "      <td>Jet aléatoire</td>\n",
       "      <td>20000</td>\n",
       "      <td>0.033023</td>\n",
       "      <td>3.143000</td>\n",
       "      <td>3.141593</td>\n",
       "      <td>0.000448</td>\n",
       "      <td>0.001407</td>\n",
       "      <td>[0, 1]</td>\n",
       "    </tr>\n",
       "    <tr>\n",
       "      <th>2</th>\n",
       "      <td>Jet aléatoire</td>\n",
       "      <td>30000</td>\n",
       "      <td>0.069049</td>\n",
       "      <td>3.146533</td>\n",
       "      <td>3.141593</td>\n",
       "      <td>0.001573</td>\n",
       "      <td>0.004941</td>\n",
       "      <td>[0, 1]</td>\n",
       "    </tr>\n",
       "    <tr>\n",
       "      <th>3</th>\n",
       "      <td>Jet aléatoire</td>\n",
       "      <td>40000</td>\n",
       "      <td>0.111095</td>\n",
       "      <td>3.139800</td>\n",
       "      <td>3.141593</td>\n",
       "      <td>-0.000571</td>\n",
       "      <td>0.001793</td>\n",
       "      <td>[0, 1]</td>\n",
       "    </tr>\n",
       "    <tr>\n",
       "      <th>4</th>\n",
       "      <td>Jet aléatoire</td>\n",
       "      <td>50000</td>\n",
       "      <td>0.165134</td>\n",
       "      <td>3.136560</td>\n",
       "      <td>3.141593</td>\n",
       "      <td>-0.001602</td>\n",
       "      <td>0.005033</td>\n",
       "      <td>[0, 1]</td>\n",
       "    </tr>\n",
       "    <tr>\n",
       "      <th>5</th>\n",
       "      <td>Jet aléatoire</td>\n",
       "      <td>60000</td>\n",
       "      <td>0.228178</td>\n",
       "      <td>3.132533</td>\n",
       "      <td>3.141593</td>\n",
       "      <td>-0.002884</td>\n",
       "      <td>0.009059</td>\n",
       "      <td>[0, 1]</td>\n",
       "    </tr>\n",
       "    <tr>\n",
       "      <th>6</th>\n",
       "      <td>Jet aléatoire</td>\n",
       "      <td>70000</td>\n",
       "      <td>0.302231</td>\n",
       "      <td>3.144571</td>\n",
       "      <td>3.141593</td>\n",
       "      <td>0.000948</td>\n",
       "      <td>0.002979</td>\n",
       "      <td>[0, 1]</td>\n",
       "    </tr>\n",
       "    <tr>\n",
       "      <th>7</th>\n",
       "      <td>Jet aléatoire</td>\n",
       "      <td>80000</td>\n",
       "      <td>0.386290</td>\n",
       "      <td>3.150600</td>\n",
       "      <td>3.141593</td>\n",
       "      <td>0.002867</td>\n",
       "      <td>0.009007</td>\n",
       "      <td>[0, 1]</td>\n",
       "    </tr>\n",
       "    <tr>\n",
       "      <th>8</th>\n",
       "      <td>Jet aléatoire</td>\n",
       "      <td>90000</td>\n",
       "      <td>0.481357</td>\n",
       "      <td>3.141733</td>\n",
       "      <td>3.141593</td>\n",
       "      <td>0.000045</td>\n",
       "      <td>0.000141</td>\n",
       "      <td>[0, 1]</td>\n",
       "    </tr>\n",
       "    <tr>\n",
       "      <th>9</th>\n",
       "      <td>Jet aléatoire</td>\n",
       "      <td>100000</td>\n",
       "      <td>0.587428</td>\n",
       "      <td>3.146480</td>\n",
       "      <td>3.141593</td>\n",
       "      <td>0.001556</td>\n",
       "      <td>0.004887</td>\n",
       "      <td>[0, 1]</td>\n",
       "    </tr>\n",
       "  </tbody>\n",
       "</table>\n",
       "</div>"
      ],
      "text/plain": [
       "         methode       n  temps ecoulé  val. approchée  val. réelle  \\\n",
       "0  Jet aléatoire   10000      0.011008        3.102400     3.141593   \n",
       "1  Jet aléatoire   20000      0.033023        3.143000     3.141593   \n",
       "2  Jet aléatoire   30000      0.069049        3.146533     3.141593   \n",
       "3  Jet aléatoire   40000      0.111095        3.139800     3.141593   \n",
       "4  Jet aléatoire   50000      0.165134        3.136560     3.141593   \n",
       "5  Jet aléatoire   60000      0.228178        3.132533     3.141593   \n",
       "6  Jet aléatoire   70000      0.302231        3.144571     3.141593   \n",
       "7  Jet aléatoire   80000      0.386290        3.150600     3.141593   \n",
       "8  Jet aléatoire   90000      0.481357        3.141733     3.141593   \n",
       "9  Jet aléatoire  100000      0.587428        3.146480     3.141593   \n",
       "\n",
       "   erreur relative  erreur absolue interval de conf  \n",
       "0        -0.012475        0.039193           [0, 1]  \n",
       "1         0.000448        0.001407           [0, 1]  \n",
       "2         0.001573        0.004941           [0, 1]  \n",
       "3        -0.000571        0.001793           [0, 1]  \n",
       "4        -0.001602        0.005033           [0, 1]  \n",
       "5        -0.002884        0.009059           [0, 1]  \n",
       "6         0.000948        0.002979           [0, 1]  \n",
       "7         0.002867        0.009007           [0, 1]  \n",
       "8         0.000045        0.000141           [0, 1]  \n",
       "9         0.001556        0.004887           [0, 1]  "
      ]
     },
     "execution_count": 9,
     "metadata": {},
     "output_type": "execute_result"
    }
   ],
   "source": [
    "df_jet_aleatoire"
   ]
  },
  {
   "cell_type": "markdown",
   "metadata": {},
   "source": [
    "# 1.3) Comparaison des methodes jet aléatoire vs monte carlo"
   ]
  },
  {
   "cell_type": "code",
   "execution_count": 257,
   "metadata": {
    "collapsed": false
   },
   "outputs": [
    {
     "data": {
      "text/plain": [
       "\"\\n    On remarque dans ce graphe que la methode de monte carlo est beaucoup plus rapide que le comptage aléatoire\\n    \\n    EN X: le temps ecoulé \\n    EN Y: le nombre d'individus pour chaque echantillon\\n\\n\""
      ]
     },
     "execution_count": 257,
     "metadata": {},
     "output_type": "execute_result"
    },
    {
     "data": {
      "image/png": "[encoded data removed]",
      "text/plain": [
       "<matplotlib.figure.Figure at 0x1a751e3d898>"
      ]
     },
     "metadata": {},
     "output_type": "display_data"
    }
   ],
   "source": [
    "''' \n",
    "\n",
    "VITESSE D'APPROXIMATION  \n",
    "\n",
    "'''\n",
    "sns.plt.plot(df_jet_aleatoire[\"temps ecoulé\"],df_jet_aleatoire[\"n\"]) # EN BLEU\n",
    "sns.plt.plot(df_monte_carlo[\"temps ecoulé\"],df_jet_aleatoire[\"n\"]) # EN VERT\n",
    "'''\n",
    "    On remarque dans ce graphe que la methode de monte carlo est beaucoup plus rapide que le comptage aléatoire\n",
    "    \n",
    "    EN X: le temps ecoulé \n",
    "    EN Y: le nombre d'individus pour chaque echantillon\n",
    "\n",
    "'''"
   ]
  },
  {
   "cell_type": "code",
   "execution_count": 270,
   "metadata": {
    "collapsed": false
   },
   "outputs": [
    {
     "data": {
      "text/plain": [
       "\"\\n    On remarque dans ce graphe que la methode de monte carlo est beaucoup plus précise que le comptage aléatoire\\n        \\n    EN X: le nombre d'individus pour chaque echantillon\\n    EN Y: le ratio d'erreur relative\\n\\n\""
      ]
     },
     "execution_count": 270,
     "metadata": {},
     "output_type": "execute_result"
    },
    {
     "data": {
      "image/png": "[encoded data removed]",
      "text/plain": [
       "<matplotlib.figure.Figure at 0x1a750189748>"
      ]
     },
     "metadata": {},
     "output_type": "display_data"
    }
   ],
   "source": [
    "''' \n",
    "\n",
    "PRECISION DE CONVERGENCE \n",
    "\n",
    "'''\n",
    "sns.plt.plot(tab_n,df_jet_aleatoire[\"erreur relative\"]) # EN BLEU L\"ALEATOIRE\n",
    "sns.plt.plot(tab_n,df_monte_carlo[\"erreur relative\"]) # EN VERT POUR MONTE_CARLO\n",
    "'''\n",
    "    On remarque dans ce graphe que la methode de monte carlo est beaucoup plus précise que le comptage aléatoire\n",
    "        \n",
    "    EN X: le nombre d'individus pour chaque echantillon\n",
    "    EN Y: le ratio d'erreur relative\n",
    "\n",
    "'''"
   ]
  },
  {
   "cell_type": "markdown",
   "metadata": {},
   "source": [
    "# 2.1) Simulation d'une loi de proba  [0.10,0.20,0.25,0.45] X [1,2,3,4]"
   ]
  },
  {
   "cell_type": "code",
   "execution_count": 10,
   "metadata": {
    "collapsed": true
   },
   "outputs": [],
   "source": [
    "val   = list(range(1,5))\n",
    "probs = [0.10,0.20,0.25,0.45]"
   ]
  },
  {
   "cell_type": "code",
   "execution_count": 11,
   "metadata": {
    "collapsed": false
   },
   "outputs": [],
   "source": [
    "esperance_par_xi_reel = list(map(lambda x,y:x*y,val,probs))\n",
    "esperance_reel        = sum(esperance_par_xi_reel)"
   ]
  },
  {
   "cell_type": "code",
   "execution_count": 12,
   "metadata": {
    "collapsed": true
   },
   "outputs": [],
   "source": [
    "def returnX(prob,probs,val):\n",
    "    stack = 0\n",
    "    for i in range(len(probs)):\n",
    "        stack += probs[i] \n",
    "        if prob < stack:\n",
    "            return val[i]\n",
    "    return val[len(probs)-1]"
   ]
  },
  {
   "cell_type": "code",
   "execution_count": 13,
   "metadata": {
    "collapsed": false
   },
   "outputs": [],
   "source": [
    "def returnX_reverse(prob,probs,val):\n",
    "    stack = 1\n",
    "    for i in reversed(range(len(probs))):\n",
    "        stack -= probs[i]\n",
    "        if prob > stack:\n",
    "            return val[i]    \n",
    "    return val[0]\n",
    "        "
   ]
  },
  {
   "cell_type": "markdown",
   "metadata": {},
   "source": [
    "### 2.1.1)  en considerant les proba croissantes"
   ]
  },
  {
   "cell_type": "code",
   "execution_count": 51,
   "metadata": {
    "collapsed": false
   },
   "outputs": [],
   "source": [
    "esperance_reel = sum(esperance_par_xi_reel)\n",
    "data           = []\n",
    "\n",
    "for n in tab_n:    \n",
    "    xi_simule = []\n",
    "    start = time.time()\n",
    "    \n",
    "    for i in range(n):\n",
    "        u = random.uniform(0,1)\n",
    "        x = returnX(u,probs,val)\n",
    "        xi_simule.append(x)\n",
    " \n",
    "    end          = time.time()\n",
    "    \n",
    "    moyenne_emp  = 1/n * (sum(xi_simule))\n",
    "    variance     = 1/n*(sum(map(lambda x : (x - moyenne_emp)**2, xi_simule)))\n",
    "    ecart_type   = math.sqrt(variance)\n",
    "    erreur_abs   = abs(esperance_reel - moyenne_emp) \n",
    "    erreur_rel   = (moyenne_emp - esperance_reel)  / esperance_reel \n",
    "    \n",
    "    cinterval_inf = moyenne_emp-(1.96*ecart_type/math.sqrt(n))\n",
    "    cinterval_sup = moyenne_emp+(1.96*ecart_type/math.sqrt(n))\n",
    "    confidence = [str(cinterval_inf),str(cinterval_sup)]\n",
    "    \n",
    "    data.append([\n",
    "          \"random de v.a iid\",n,abs(start-end),moyenne_emp,esperance_reel,erreur_rel,erreur_abs,ecart_type,confidence\n",
    "    ])\n",
    "    \n",
    "df_loi_croissant = pd.DataFrame(data,columns=[\"methode\",\"n\",\"temps ecoulé\",\"val. approchée\",\n",
    "                                        \"val. réelle\",\"erreur relative\",\"erreur absolue\",\"ecart-type\",\"interval de conf\"])"
   ]
  },
  {
   "cell_type": "code",
   "execution_count": 52,
   "metadata": {
    "collapsed": false
   },
   "outputs": [
    {
     "data": {
      "text/html": [
       "<div>\n",
       "<table border=\"1\" class=\"dataframe\">\n",
       "  <thead>\n",
       "    <tr style=\"text-align: right;\">\n",
       "      <th></th>\n",
       "      <th>methode</th>\n",
       "      <th>n</th>\n",
       "      <th>temps ecoulé</th>\n",
       "      <th>val. approchée</th>\n",
       "      <th>val. réelle</th>\n",
       "      <th>erreur relative</th>\n",
       "      <th>erreur absolue</th>\n",
       "      <th>ecart-type</th>\n",
       "      <th>interval de conf</th>\n",
       "    </tr>\n",
       "  </thead>\n",
       "  <tbody>\n",
       "    <tr>\n",
       "      <th>0</th>\n",
       "      <td>random de v.a iid</td>\n",
       "      <td>10000</td>\n",
       "      <td>0.015024</td>\n",
       "      <td>3.045900</td>\n",
       "      <td>3.05</td>\n",
       "      <td>-0.001344</td>\n",
       "      <td>0.004100</td>\n",
       "      <td>1.030239</td>\n",
       "      <td>[3.025707308057855, 3.066092691942145]</td>\n",
       "    </tr>\n",
       "    <tr>\n",
       "      <th>1</th>\n",
       "      <td>random de v.a iid</td>\n",
       "      <td>20000</td>\n",
       "      <td>0.027007</td>\n",
       "      <td>3.049450</td>\n",
       "      <td>3.05</td>\n",
       "      <td>-0.000180</td>\n",
       "      <td>0.000550</td>\n",
       "      <td>1.019218</td>\n",
       "      <td>[3.0353243635082943, 3.063575636491706]</td>\n",
       "    </tr>\n",
       "    <tr>\n",
       "      <th>2</th>\n",
       "      <td>random de v.a iid</td>\n",
       "      <td>30000</td>\n",
       "      <td>0.043031</td>\n",
       "      <td>3.060633</td>\n",
       "      <td>3.05</td>\n",
       "      <td>0.003486</td>\n",
       "      <td>0.010633</td>\n",
       "      <td>1.018933</td>\n",
       "      <td>[3.049103025766618, 3.0721636409000492]</td>\n",
       "    </tr>\n",
       "    <tr>\n",
       "      <th>3</th>\n",
       "      <td>random de v.a iid</td>\n",
       "      <td>40000</td>\n",
       "      <td>0.054038</td>\n",
       "      <td>3.049075</td>\n",
       "      <td>3.05</td>\n",
       "      <td>-0.000303</td>\n",
       "      <td>0.000925</td>\n",
       "      <td>1.025606</td>\n",
       "      <td>[3.0390240660868875, 3.059125933913113]</td>\n",
       "    </tr>\n",
       "    <tr>\n",
       "      <th>4</th>\n",
       "      <td>random de v.a iid</td>\n",
       "      <td>50000</td>\n",
       "      <td>0.064045</td>\n",
       "      <td>3.058040</td>\n",
       "      <td>3.05</td>\n",
       "      <td>0.002636</td>\n",
       "      <td>0.008040</td>\n",
       "      <td>1.022053</td>\n",
       "      <td>[3.049081314647308, 3.0669986853526923]</td>\n",
       "    </tr>\n",
       "    <tr>\n",
       "      <th>5</th>\n",
       "      <td>random de v.a iid</td>\n",
       "      <td>60000</td>\n",
       "      <td>0.076053</td>\n",
       "      <td>3.052933</td>\n",
       "      <td>3.05</td>\n",
       "      <td>0.000962</td>\n",
       "      <td>0.002933</td>\n",
       "      <td>1.026059</td>\n",
       "      <td>[3.044723147549976, 3.0611435191166905]</td>\n",
       "    </tr>\n",
       "    <tr>\n",
       "      <th>6</th>\n",
       "      <td>random de v.a iid</td>\n",
       "      <td>70000</td>\n",
       "      <td>0.091064</td>\n",
       "      <td>3.052186</td>\n",
       "      <td>3.05</td>\n",
       "      <td>0.000717</td>\n",
       "      <td>0.002186</td>\n",
       "      <td>1.025464</td>\n",
       "      <td>[3.044588969810666, 3.0597824587607625]</td>\n",
       "    </tr>\n",
       "    <tr>\n",
       "      <th>7</th>\n",
       "      <td>random de v.a iid</td>\n",
       "      <td>80000</td>\n",
       "      <td>0.104074</td>\n",
       "      <td>3.046363</td>\n",
       "      <td>3.05</td>\n",
       "      <td>-0.001193</td>\n",
       "      <td>0.003637</td>\n",
       "      <td>1.024677</td>\n",
       "      <td>[3.0392618504414854, 3.053463149558515]</td>\n",
       "    </tr>\n",
       "    <tr>\n",
       "      <th>8</th>\n",
       "      <td>random de v.a iid</td>\n",
       "      <td>90000</td>\n",
       "      <td>0.120085</td>\n",
       "      <td>3.052300</td>\n",
       "      <td>3.05</td>\n",
       "      <td>0.000754</td>\n",
       "      <td>0.002300</td>\n",
       "      <td>1.025112</td>\n",
       "      <td>[3.0456026048301568, 3.0589973951698437]</td>\n",
       "    </tr>\n",
       "    <tr>\n",
       "      <th>9</th>\n",
       "      <td>random de v.a iid</td>\n",
       "      <td>100000</td>\n",
       "      <td>0.131093</td>\n",
       "      <td>3.048820</td>\n",
       "      <td>3.05</td>\n",
       "      <td>-0.000387</td>\n",
       "      <td>0.001180</td>\n",
       "      <td>1.022544</td>\n",
       "      <td>[3.0424822054879037, 3.0551577945120965]</td>\n",
       "    </tr>\n",
       "  </tbody>\n",
       "</table>\n",
       "</div>"
      ],
      "text/plain": [
       "             methode       n  temps ecoulé  val. approchée  val. réelle  \\\n",
       "0  random de v.a iid   10000      0.015024        3.045900         3.05   \n",
       "1  random de v.a iid   20000      0.027007        3.049450         3.05   \n",
       "2  random de v.a iid   30000      0.043031        3.060633         3.05   \n",
       "3  random de v.a iid   40000      0.054038        3.049075         3.05   \n",
       "4  random de v.a iid   50000      0.064045        3.058040         3.05   \n",
       "5  random de v.a iid   60000      0.076053        3.052933         3.05   \n",
       "6  random de v.a iid   70000      0.091064        3.052186         3.05   \n",
       "7  random de v.a iid   80000      0.104074        3.046363         3.05   \n",
       "8  random de v.a iid   90000      0.120085        3.052300         3.05   \n",
       "9  random de v.a iid  100000      0.131093        3.048820         3.05   \n",
       "\n",
       "   erreur relative  erreur absolue  ecart-type  \\\n",
       "0        -0.001344        0.004100    1.030239   \n",
       "1        -0.000180        0.000550    1.019218   \n",
       "2         0.003486        0.010633    1.018933   \n",
       "3        -0.000303        0.000925    1.025606   \n",
       "4         0.002636        0.008040    1.022053   \n",
       "5         0.000962        0.002933    1.026059   \n",
       "6         0.000717        0.002186    1.025464   \n",
       "7        -0.001193        0.003637    1.024677   \n",
       "8         0.000754        0.002300    1.025112   \n",
       "9        -0.000387        0.001180    1.022544   \n",
       "\n",
       "                           interval de conf  \n",
       "0    [3.025707308057855, 3.066092691942145]  \n",
       "1   [3.0353243635082943, 3.063575636491706]  \n",
       "2   [3.049103025766618, 3.0721636409000492]  \n",
       "3   [3.0390240660868875, 3.059125933913113]  \n",
       "4   [3.049081314647308, 3.0669986853526923]  \n",
       "5   [3.044723147549976, 3.0611435191166905]  \n",
       "6   [3.044588969810666, 3.0597824587607625]  \n",
       "7   [3.0392618504414854, 3.053463149558515]  \n",
       "8  [3.0456026048301568, 3.0589973951698437]  \n",
       "9  [3.0424822054879037, 3.0551577945120965]  "
      ]
     },
     "execution_count": 52,
     "metadata": {},
     "output_type": "execute_result"
    }
   ],
   "source": [
    "df_loi_croissant"
   ]
  },
  {
   "cell_type": "markdown",
   "metadata": {},
   "source": [
    "### 2.1.2) loi en mesurant les proba décroissantes"
   ]
  },
  {
   "cell_type": "code",
   "execution_count": 46,
   "metadata": {
    "collapsed": true
   },
   "outputs": [],
   "source": [
    "esperance_reel = sum(esperance_par_xi_reel)\n",
    "data           = []\n",
    "\n",
    "for n in tab_n:    \n",
    "    xi_simule = []\n",
    "    start = time.time()\n",
    "    \n",
    "    for i in range(n):\n",
    "        u = random.uniform(0,1)\n",
    "        x = returnX_reverse(u,probs,val)\n",
    "        xi_simule.append(x)\n",
    " \n",
    "    end          = time.time()\n",
    "    \n",
    "    moyenne_emp  = 1/n * (sum(xi_simule))\n",
    "    variance     = 1/n*(sum(map(lambda x : (x - moyenne_emp)**2, xi_simule)))\n",
    "    ecart_type   = math.sqrt(variance)\n",
    "    erreur_abs   = abs(esperance_reel - moyenne_emp) \n",
    "    erreur_rel   = (moyenne_emp - esperance_reel)  / esperance_reel \n",
    "    \n",
    "    cinterval_inf = moyenne_emp-(1.96*ecart_type/math.sqrt(n))\n",
    "    cinterval_sup = moyenne_emp+(1.96*ecart_type/math.sqrt(n))\n",
    "    confidence = [str(cinterval_inf),str(cinterval_sup)]\n",
    "    \n",
    "    data.append([\n",
    "          \"random de v.a iid\",n,abs(start-end),moyenne_emp,esperance_reel,erreur_rel,erreur_abs,ecart_type,confidence\n",
    "    ])\n",
    "    \n",
    "df_loi_reverse = pd.DataFrame(data,columns=[\"methode\",\"n\",\"temps ecoulé\",\"val. approchée\",\n",
    "                                        \"val. réelle\",\"erreur relative\",\"erreur absolue\",\"ecart-type\",\"interval de conf\"])\n",
    "\n",
    "    #results.append([\"Monte-Carlo\",n,end-start,erreur_abs,ecart_type,\"\"])"
   ]
  },
  {
   "cell_type": "code",
   "execution_count": 47,
   "metadata": {
    "collapsed": false
   },
   "outputs": [
    {
     "data": {
      "text/html": [
       "<div>\n",
       "<table border=\"1\" class=\"dataframe\">\n",
       "  <thead>\n",
       "    <tr style=\"text-align: right;\">\n",
       "      <th></th>\n",
       "      <th>methode</th>\n",
       "      <th>n</th>\n",
       "      <th>temps ecoulé</th>\n",
       "      <th>val. approchée</th>\n",
       "      <th>val. réelle</th>\n",
       "      <th>erreur relative</th>\n",
       "      <th>erreur absolue</th>\n",
       "      <th>ecart-type</th>\n",
       "      <th>interval de conf</th>\n",
       "    </tr>\n",
       "  </thead>\n",
       "  <tbody>\n",
       "    <tr>\n",
       "      <th>0</th>\n",
       "      <td>random de v.a iid</td>\n",
       "      <td>10000</td>\n",
       "      <td>0.014010</td>\n",
       "      <td>3.051800</td>\n",
       "      <td>3.05</td>\n",
       "      <td>0.000590</td>\n",
       "      <td>0.001800</td>\n",
       "      <td>1.025922</td>\n",
       "      <td>[3.0316919210633735, 3.0719080789366267]</td>\n",
       "    </tr>\n",
       "    <tr>\n",
       "      <th>1</th>\n",
       "      <td>random de v.a iid</td>\n",
       "      <td>20000</td>\n",
       "      <td>0.029020</td>\n",
       "      <td>3.049150</td>\n",
       "      <td>3.05</td>\n",
       "      <td>-0.000279</td>\n",
       "      <td>0.000850</td>\n",
       "      <td>1.016580</td>\n",
       "      <td>[3.035060924231086, 3.063239075768914]</td>\n",
       "    </tr>\n",
       "    <tr>\n",
       "      <th>2</th>\n",
       "      <td>random de v.a iid</td>\n",
       "      <td>30000</td>\n",
       "      <td>0.045031</td>\n",
       "      <td>3.047533</td>\n",
       "      <td>3.05</td>\n",
       "      <td>-0.000809</td>\n",
       "      <td>0.002467</td>\n",
       "      <td>1.023690</td>\n",
       "      <td>[3.03594919397433, 3.059117472692337]</td>\n",
       "    </tr>\n",
       "    <tr>\n",
       "      <th>3</th>\n",
       "      <td>random de v.a iid</td>\n",
       "      <td>40000</td>\n",
       "      <td>0.058046</td>\n",
       "      <td>3.046850</td>\n",
       "      <td>3.05</td>\n",
       "      <td>-0.001033</td>\n",
       "      <td>0.003150</td>\n",
       "      <td>1.021203</td>\n",
       "      <td>[3.0368422129497534, 3.0568577870502467]</td>\n",
       "    </tr>\n",
       "    <tr>\n",
       "      <th>4</th>\n",
       "      <td>random de v.a iid</td>\n",
       "      <td>50000</td>\n",
       "      <td>0.071051</td>\n",
       "      <td>3.051400</td>\n",
       "      <td>3.05</td>\n",
       "      <td>0.000459</td>\n",
       "      <td>0.001400</td>\n",
       "      <td>1.026508</td>\n",
       "      <td>[3.042402263370752, 3.0603977366292483]</td>\n",
       "    </tr>\n",
       "    <tr>\n",
       "      <th>5</th>\n",
       "      <td>random de v.a iid</td>\n",
       "      <td>60000</td>\n",
       "      <td>0.083059</td>\n",
       "      <td>3.053717</td>\n",
       "      <td>3.05</td>\n",
       "      <td>0.001219</td>\n",
       "      <td>0.003717</td>\n",
       "      <td>1.020995</td>\n",
       "      <td>[3.0455470036323766, 3.061886329700957]</td>\n",
       "    </tr>\n",
       "    <tr>\n",
       "      <th>6</th>\n",
       "      <td>random de v.a iid</td>\n",
       "      <td>70000</td>\n",
       "      <td>0.098066</td>\n",
       "      <td>3.046714</td>\n",
       "      <td>3.05</td>\n",
       "      <td>-0.001077</td>\n",
       "      <td>0.003286</td>\n",
       "      <td>1.022177</td>\n",
       "      <td>[3.039141890616299, 3.0542866808122726]</td>\n",
       "    </tr>\n",
       "    <tr>\n",
       "      <th>7</th>\n",
       "      <td>random de v.a iid</td>\n",
       "      <td>80000</td>\n",
       "      <td>0.112077</td>\n",
       "      <td>3.051850</td>\n",
       "      <td>3.05</td>\n",
       "      <td>0.000607</td>\n",
       "      <td>0.001850</td>\n",
       "      <td>1.021438</td>\n",
       "      <td>[3.044771792426641, 3.058928207573359]</td>\n",
       "    </tr>\n",
       "    <tr>\n",
       "      <th>8</th>\n",
       "      <td>random de v.a iid</td>\n",
       "      <td>90000</td>\n",
       "      <td>0.126094</td>\n",
       "      <td>3.054444</td>\n",
       "      <td>3.05</td>\n",
       "      <td>0.001457</td>\n",
       "      <td>0.004444</td>\n",
       "      <td>1.024051</td>\n",
       "      <td>[3.0477539785608654, 3.0611349103280237]</td>\n",
       "    </tr>\n",
       "    <tr>\n",
       "      <th>9</th>\n",
       "      <td>random de v.a iid</td>\n",
       "      <td>100000</td>\n",
       "      <td>0.140095</td>\n",
       "      <td>3.058700</td>\n",
       "      <td>3.05</td>\n",
       "      <td>0.002852</td>\n",
       "      <td>0.008700</td>\n",
       "      <td>1.021594</td>\n",
       "      <td>[3.0523680947596334, 3.0650319052403674]</td>\n",
       "    </tr>\n",
       "  </tbody>\n",
       "</table>\n",
       "</div>"
      ],
      "text/plain": [
       "             methode       n  temps ecoulé  val. approchée  val. réelle  \\\n",
       "0  random de v.a iid   10000      0.014010        3.051800         3.05   \n",
       "1  random de v.a iid   20000      0.029020        3.049150         3.05   \n",
       "2  random de v.a iid   30000      0.045031        3.047533         3.05   \n",
       "3  random de v.a iid   40000      0.058046        3.046850         3.05   \n",
       "4  random de v.a iid   50000      0.071051        3.051400         3.05   \n",
       "5  random de v.a iid   60000      0.083059        3.053717         3.05   \n",
       "6  random de v.a iid   70000      0.098066        3.046714         3.05   \n",
       "7  random de v.a iid   80000      0.112077        3.051850         3.05   \n",
       "8  random de v.a iid   90000      0.126094        3.054444         3.05   \n",
       "9  random de v.a iid  100000      0.140095        3.058700         3.05   \n",
       "\n",
       "   erreur relative  erreur absolue  ecart-type  \\\n",
       "0         0.000590        0.001800    1.025922   \n",
       "1        -0.000279        0.000850    1.016580   \n",
       "2        -0.000809        0.002467    1.023690   \n",
       "3        -0.001033        0.003150    1.021203   \n",
       "4         0.000459        0.001400    1.026508   \n",
       "5         0.001219        0.003717    1.020995   \n",
       "6        -0.001077        0.003286    1.022177   \n",
       "7         0.000607        0.001850    1.021438   \n",
       "8         0.001457        0.004444    1.024051   \n",
       "9         0.002852        0.008700    1.021594   \n",
       "\n",
       "                           interval de conf  \n",
       "0  [3.0316919210633735, 3.0719080789366267]  \n",
       "1    [3.035060924231086, 3.063239075768914]  \n",
       "2     [3.03594919397433, 3.059117472692337]  \n",
       "3  [3.0368422129497534, 3.0568577870502467]  \n",
       "4   [3.042402263370752, 3.0603977366292483]  \n",
       "5   [3.0455470036323766, 3.061886329700957]  \n",
       "6   [3.039141890616299, 3.0542866808122726]  \n",
       "7    [3.044771792426641, 3.058928207573359]  \n",
       "8  [3.0477539785608654, 3.0611349103280237]  \n",
       "9  [3.0523680947596334, 3.0650319052403674]  "
      ]
     },
     "execution_count": 47,
     "metadata": {},
     "output_type": "execute_result"
    }
   ],
   "source": [
    "df_loi_reverse"
   ]
  },
  {
   "cell_type": "markdown",
   "metadata": {},
   "source": [
    "# 2.2) Comparaison des methodes (simulation avec xi ordonnés croissants VS décroissants)"
   ]
  },
  {
   "cell_type": "code",
   "execution_count": 53,
   "metadata": {
    "collapsed": false
   },
   "outputs": [
    {
     "data": {
      "text/plain": [
       "\"\\n    On remarque dans ce graphe que la methode reverse (prob décroissante) est plus lente que le la methode croissante \\n    vitesse(bleu) > vitesse(vert)\\n    \\n    EN X: le temps ecoulé \\n    EN Y: le nombre d'individus pour chaque echantillon\\n\\n\""
      ]
     },
     "execution_count": 53,
     "metadata": {},
     "output_type": "execute_result"
    },
    {
     "data": {
      "image/png": "[encoded data removed]",
      "text/plain": [
       "<matplotlib.figure.Figure at 0x1fca676bd68>"
      ]
     },
     "metadata": {},
     "output_type": "display_data"
    }
   ],
   "source": [
    "''' \n",
    "\n",
    "VITESSE D'APPROXIMATION  \n",
    "\n",
    "'''\n",
    "sns.plt.plot(df_loi_croissant[\"temps ecoulé\"],tab_n) # EN BLEU\n",
    "sns.plt.plot(df_loi_reverse[\"temps ecoulé\"],tab_n) # EN VERT\n",
    "'''\n",
    "    On remarque dans ce graphe que la methode reverse (prob décroissante) est plus lente que le la methode croissante \n",
    "    vitesse(bleu) > vitesse(vert)\n",
    "    \n",
    "    AXE X: le temps ecoulé \n",
    "    AXE Y: le nombre d'individus pour chaque echantillon\n",
    "\n",
    "'''"
   ]
  },
  {
   "cell_type": "code",
   "execution_count": 54,
   "metadata": {
    "collapsed": false
   },
   "outputs": [
    {
     "data": {
      "text/plain": [
       "\"\\n    On remarque dans ce graphe que la methode de monte carlo est beaucoup plus précise que le comptage aléatoire\\n        \\n    EN X: le nombre d'individus pour chaque echantillon\\n    EN Y: le ratio d'erreur relative\\n\\n\""
      ]
     },
     "execution_count": 54,
     "metadata": {},
     "output_type": "execute_result"
    },
    {
     "data": {
      "image/png": "[encoded data removed]",
      "text/plain": [
       "<matplotlib.figure.Figure at 0x1fca62f7ac8>"
      ]
     },
     "metadata": {},
     "output_type": "display_data"
    }
   ],
   "source": [
    "''' \n",
    "\n",
    "PRECISION DE CONVERGENCE \n",
    "\n",
    "'''\n",
    "sns.plt.plot(tab_n,df_loi_croissant[\"erreur relative\"]) # EN BLEU loi normale ordered probs\n",
    "sns.plt.plot(tab_n,df_loi_reverse[\"erreur relative\"]) #VERT loi normale reversed probs\n",
    "'''\n",
    "        \n",
    "    AXE X: le nombre d'individus pour chaque echantillon\n",
    "    AXE Y: le ratio d'erreur relative\n",
    "\n",
    "'''"
   ]
  },
  {
   "cell_type": "markdown",
   "metadata": {},
   "source": [
    "# 3.1) Simulation de loi géometrique (pseudo inverse de la f.d.r) q = 0.7"
   ]
  },
  {
   "cell_type": "code",
   "execution_count": 24,
   "metadata": {
    "collapsed": false
   },
   "outputs": [],
   "source": [
    "data = []\n",
    "\n",
    "q = 0.7\n",
    "esperance_reel = q/(1-q)\n",
    "\n",
    "for n in tab_n:\n",
    "    xi_simule = []\n",
    "    stack = 0\n",
    "    start = time.time()\n",
    "    for index in range(n):\n",
    "        u = random.uniform(0,1)\n",
    "        i = 1 \n",
    "        while True:\n",
    "            if 1-(q**(i-1)) <= u < 1-(q**(i)):\n",
    "                break\n",
    "            else:\n",
    "                i+=1\n",
    "        xi_simule.append(i-1)\n",
    "    end = time.time()\n",
    "    moyenne_emp = 1/n * sum(xi_simule)\n",
    "    variance     = 1/n*(sum(map(lambda x : (x - moyenne_emp)**2, xi_simule)))\n",
    "    ecart_type   = math.sqrt(variance)\n",
    "    erreur_abs   = abs(esperance_reel - moyenne_emp)\n",
    "    erreur_rel   = (moyenne_emp - esperance_reel )/ esperance_reel\n",
    "    \n",
    "    cinterval_inf = moyenne_emp-(1.96*ecart_type/math.sqrt(n))\n",
    "    cinterval_sup = moyenne_emp+(1.96*ecart_type/math.sqrt(n))\n",
    "    confidence = [str(cinterval_inf),str(cinterval_sup)]\n",
    "    \n",
    "    data.append([\n",
    "          \"invers fdr geo\",n,abs(start-end),moyenne_emp,esperance_reel,(erreur_abs),erreur_rel,ecart_type,confidence\n",
    "    ])\n",
    "    \n",
    "df_loi_geom_inv_fdr = pd.DataFrame(data,columns=[\"methode\",\"n\",\"temps ecoulé\",\"val. approchée\",\n",
    "                                        \"val. réelle\",\"erreur relative\",\"erreur absolue\",\"ecart-type\",\"interval de conf\"])   "
   ]
  },
  {
   "cell_type": "code",
   "execution_count": 25,
   "metadata": {
    "collapsed": false,
    "scrolled": true
   },
   "outputs": [
    {
     "data": {
      "text/html": [
       "<div>\n",
       "<table border=\"1\" class=\"dataframe\">\n",
       "  <thead>\n",
       "    <tr style=\"text-align: right;\">\n",
       "      <th></th>\n",
       "      <th>methode</th>\n",
       "      <th>n</th>\n",
       "      <th>temps ecoulé</th>\n",
       "      <th>val. approchée</th>\n",
       "      <th>val. réelle</th>\n",
       "      <th>erreur relative</th>\n",
       "      <th>erreur absolue</th>\n",
       "      <th>ecart-type</th>\n",
       "      <th>interval de conf</th>\n",
       "    </tr>\n",
       "  </thead>\n",
       "  <tbody>\n",
       "    <tr>\n",
       "      <th>0</th>\n",
       "      <td>invers fdr geo</td>\n",
       "      <td>10000</td>\n",
       "      <td>0.023999</td>\n",
       "      <td>2.314400</td>\n",
       "      <td>2.333333</td>\n",
       "      <td>0.018933</td>\n",
       "      <td>-0.008114</td>\n",
       "      <td>2.763033</td>\n",
       "      <td>[2.2602445486568308, 2.3685554513431692]</td>\n",
       "    </tr>\n",
       "    <tr>\n",
       "      <th>1</th>\n",
       "      <td>invers fdr geo</td>\n",
       "      <td>20000</td>\n",
       "      <td>0.050041</td>\n",
       "      <td>2.284700</td>\n",
       "      <td>2.333333</td>\n",
       "      <td>0.048633</td>\n",
       "      <td>-0.020843</td>\n",
       "      <td>2.759918</td>\n",
       "      <td>[2.2464494916845155, 2.3229505083154844]</td>\n",
       "    </tr>\n",
       "    <tr>\n",
       "      <th>2</th>\n",
       "      <td>invers fdr geo</td>\n",
       "      <td>30000</td>\n",
       "      <td>0.073046</td>\n",
       "      <td>2.330867</td>\n",
       "      <td>2.333333</td>\n",
       "      <td>0.002467</td>\n",
       "      <td>-0.001057</td>\n",
       "      <td>2.809685</td>\n",
       "      <td>[2.2990720929371085, 2.362661240396225]</td>\n",
       "    </tr>\n",
       "    <tr>\n",
       "      <th>3</th>\n",
       "      <td>invers fdr geo</td>\n",
       "      <td>40000</td>\n",
       "      <td>0.095068</td>\n",
       "      <td>2.325525</td>\n",
       "      <td>2.333333</td>\n",
       "      <td>0.007808</td>\n",
       "      <td>-0.003346</td>\n",
       "      <td>2.759829</td>\n",
       "      <td>[2.2984786716007717, 2.352571328399229]</td>\n",
       "    </tr>\n",
       "    <tr>\n",
       "      <th>4</th>\n",
       "      <td>invers fdr geo</td>\n",
       "      <td>50000</td>\n",
       "      <td>0.120066</td>\n",
       "      <td>2.351080</td>\n",
       "      <td>2.333333</td>\n",
       "      <td>0.017747</td>\n",
       "      <td>0.007606</td>\n",
       "      <td>2.793804</td>\n",
       "      <td>[2.326591225008362, 2.3755687749916383]</td>\n",
       "    </tr>\n",
       "    <tr>\n",
       "      <th>5</th>\n",
       "      <td>invers fdr geo</td>\n",
       "      <td>60000</td>\n",
       "      <td>0.142101</td>\n",
       "      <td>2.327233</td>\n",
       "      <td>2.333333</td>\n",
       "      <td>0.006100</td>\n",
       "      <td>-0.002614</td>\n",
       "      <td>2.782137</td>\n",
       "      <td>[2.304971602754095, 2.349495063912572]</td>\n",
       "    </tr>\n",
       "    <tr>\n",
       "      <th>6</th>\n",
       "      <td>invers fdr geo</td>\n",
       "      <td>70000</td>\n",
       "      <td>0.170120</td>\n",
       "      <td>2.332157</td>\n",
       "      <td>2.333333</td>\n",
       "      <td>0.001176</td>\n",
       "      <td>-0.000504</td>\n",
       "      <td>2.787800</td>\n",
       "      <td>[2.3115048315291404, 2.3528094541851448]</td>\n",
       "    </tr>\n",
       "    <tr>\n",
       "      <th>7</th>\n",
       "      <td>invers fdr geo</td>\n",
       "      <td>80000</td>\n",
       "      <td>0.202141</td>\n",
       "      <td>2.334588</td>\n",
       "      <td>2.333333</td>\n",
       "      <td>0.001254</td>\n",
       "      <td>0.000538</td>\n",
       "      <td>2.810091</td>\n",
       "      <td>[2.3151145600548784, 2.3540604399451217]</td>\n",
       "    </tr>\n",
       "    <tr>\n",
       "      <th>8</th>\n",
       "      <td>invers fdr geo</td>\n",
       "      <td>90000</td>\n",
       "      <td>0.224158</td>\n",
       "      <td>2.336556</td>\n",
       "      <td>2.333333</td>\n",
       "      <td>0.003222</td>\n",
       "      <td>0.001381</td>\n",
       "      <td>2.788763</td>\n",
       "      <td>[2.3183356396848978, 2.3547754714262132]</td>\n",
       "    </tr>\n",
       "    <tr>\n",
       "      <th>9</th>\n",
       "      <td>invers fdr geo</td>\n",
       "      <td>100000</td>\n",
       "      <td>0.246174</td>\n",
       "      <td>2.335820</td>\n",
       "      <td>2.333333</td>\n",
       "      <td>0.002487</td>\n",
       "      <td>0.001066</td>\n",
       "      <td>2.780361</td>\n",
       "      <td>[2.3185871466176136, 2.3530528533823865]</td>\n",
       "    </tr>\n",
       "  </tbody>\n",
       "</table>\n",
       "</div>"
      ],
      "text/plain": [
       "          methode       n  temps ecoulé  val. approchée  val. réelle  \\\n",
       "0  invers fdr geo   10000      0.023999        2.314400     2.333333   \n",
       "1  invers fdr geo   20000      0.050041        2.284700     2.333333   \n",
       "2  invers fdr geo   30000      0.073046        2.330867     2.333333   \n",
       "3  invers fdr geo   40000      0.095068        2.325525     2.333333   \n",
       "4  invers fdr geo   50000      0.120066        2.351080     2.333333   \n",
       "5  invers fdr geo   60000      0.142101        2.327233     2.333333   \n",
       "6  invers fdr geo   70000      0.170120        2.332157     2.333333   \n",
       "7  invers fdr geo   80000      0.202141        2.334588     2.333333   \n",
       "8  invers fdr geo   90000      0.224158        2.336556     2.333333   \n",
       "9  invers fdr geo  100000      0.246174        2.335820     2.333333   \n",
       "\n",
       "   erreur relative  erreur absolue  ecart-type  \\\n",
       "0         0.018933       -0.008114    2.763033   \n",
       "1         0.048633       -0.020843    2.759918   \n",
       "2         0.002467       -0.001057    2.809685   \n",
       "3         0.007808       -0.003346    2.759829   \n",
       "4         0.017747        0.007606    2.793804   \n",
       "5         0.006100       -0.002614    2.782137   \n",
       "6         0.001176       -0.000504    2.787800   \n",
       "7         0.001254        0.000538    2.810091   \n",
       "8         0.003222        0.001381    2.788763   \n",
       "9         0.002487        0.001066    2.780361   \n",
       "\n",
       "                           interval de conf  \n",
       "0  [2.2602445486568308, 2.3685554513431692]  \n",
       "1  [2.2464494916845155, 2.3229505083154844]  \n",
       "2   [2.2990720929371085, 2.362661240396225]  \n",
       "3   [2.2984786716007717, 2.352571328399229]  \n",
       "4   [2.326591225008362, 2.3755687749916383]  \n",
       "5    [2.304971602754095, 2.349495063912572]  \n",
       "6  [2.3115048315291404, 2.3528094541851448]  \n",
       "7  [2.3151145600548784, 2.3540604399451217]  \n",
       "8  [2.3183356396848978, 2.3547754714262132]  \n",
       "9  [2.3185871466176136, 2.3530528533823865]  "
      ]
     },
     "execution_count": 25,
     "metadata": {},
     "output_type": "execute_result"
    }
   ],
   "source": [
    "df_loi_geom_inv_fdr"
   ]
  },
  {
   "cell_type": "markdown",
   "metadata": {
    "collapsed": false
   },
   "source": [
    "# 3.2) Simulation de loi géometrique par la formule LN  ( q = 0.7) "
   ]
  },
  {
   "cell_type": "code",
   "execution_count": 26,
   "metadata": {
    "collapsed": false
   },
   "outputs": [],
   "source": [
    "esperance_reel = q/(1-q)\n",
    "data = []\n",
    "for n in tab_n:\n",
    "    xi_simule = []\n",
    "    \n",
    "    start = time.time()\n",
    "    \n",
    "    for index in range(n):\n",
    "        \n",
    "        xi = int(math.log( (1-random.uniform(0,1) ) ) / math.log(q))\n",
    "        xi_simule.append(xi)\n",
    "    \n",
    "    end = time.time()\n",
    "    \n",
    "    moyenne_emp = 1/n * sum(xi_simule)\n",
    "    variance     = 1/n*(sum(map(lambda x : (x - moyenne_emp)**2, xi_simule)))\n",
    "    ecart_type   = math.sqrt(variance)\n",
    "    erreur_abs   = abs(esperance_reel - moyenne_emp) \n",
    "    erreur_rel   = (moyenne_emp-esperance_reel) / esperance_reel\n",
    "    cinterval_inf = moyenne_emp-(1.96*ecart_type/math.sqrt(n))\n",
    "    cinterval_sup = moyenne_emp+(1.96*ecart_type/math.sqrt(n))\n",
    "    confidence = [str(cinterval_inf),str(cinterval_sup)]\n",
    "    \n",
    "    data.append([\n",
    "          \"Loi geo app. par LN\",n,abs(start-end),moyenne_emp,esperance_reel,erreur_abs,erreur_rel,ecart_type,confidence\n",
    "    ])\n",
    "    \n",
    "df_loi_geom_LN = pd.DataFrame(data,columns=[\"methode\",\"n\",\"temps ecoulé\",\"val. approchée\",\n",
    "                                        \"val. réelle\",\"erreur_abs\",\"erreur relative\",\"ecart-type\",\"interval de conf\"])\n",
    "    "
   ]
  },
  {
   "cell_type": "code",
   "execution_count": 27,
   "metadata": {
    "collapsed": false
   },
   "outputs": [
    {
     "data": {
      "text/html": [
       "<div>\n",
       "<table border=\"1\" class=\"dataframe\">\n",
       "  <thead>\n",
       "    <tr style=\"text-align: right;\">\n",
       "      <th></th>\n",
       "      <th>methode</th>\n",
       "      <th>n</th>\n",
       "      <th>temps ecoulé</th>\n",
       "      <th>val. approchée</th>\n",
       "      <th>val. réelle</th>\n",
       "      <th>erreur_abs</th>\n",
       "      <th>erreur relative</th>\n",
       "      <th>ecart-type</th>\n",
       "      <th>interval de conf</th>\n",
       "    </tr>\n",
       "  </thead>\n",
       "  <tbody>\n",
       "    <tr>\n",
       "      <th>0</th>\n",
       "      <td>Loi geo app. par LN</td>\n",
       "      <td>10000</td>\n",
       "      <td>0.015014</td>\n",
       "      <td>2.292200</td>\n",
       "      <td>2.333333</td>\n",
       "      <td>0.041133</td>\n",
       "      <td>-0.017629</td>\n",
       "      <td>2.800075</td>\n",
       "      <td>[2.2373185329596104, 2.34708146704039]</td>\n",
       "    </tr>\n",
       "    <tr>\n",
       "      <th>1</th>\n",
       "      <td>Loi geo app. par LN</td>\n",
       "      <td>20000</td>\n",
       "      <td>0.022998</td>\n",
       "      <td>2.333550</td>\n",
       "      <td>2.333333</td>\n",
       "      <td>0.000217</td>\n",
       "      <td>0.000093</td>\n",
       "      <td>2.799749</td>\n",
       "      <td>[2.2947474586931262, 2.3723525413068742]</td>\n",
       "    </tr>\n",
       "    <tr>\n",
       "      <th>2</th>\n",
       "      <td>Loi geo app. par LN</td>\n",
       "      <td>30000</td>\n",
       "      <td>0.037034</td>\n",
       "      <td>2.320167</td>\n",
       "      <td>2.333333</td>\n",
       "      <td>0.013167</td>\n",
       "      <td>-0.005643</td>\n",
       "      <td>2.767573</td>\n",
       "      <td>[2.2888486306334777, 2.3514847026998558]</td>\n",
       "    </tr>\n",
       "    <tr>\n",
       "      <th>3</th>\n",
       "      <td>Loi geo app. par LN</td>\n",
       "      <td>40000</td>\n",
       "      <td>0.044014</td>\n",
       "      <td>2.317850</td>\n",
       "      <td>2.333333</td>\n",
       "      <td>0.015483</td>\n",
       "      <td>-0.006636</td>\n",
       "      <td>2.755163</td>\n",
       "      <td>[2.290849405764036, 2.344850594235964]</td>\n",
       "    </tr>\n",
       "    <tr>\n",
       "      <th>4</th>\n",
       "      <td>Loi geo app. par LN</td>\n",
       "      <td>50000</td>\n",
       "      <td>0.054042</td>\n",
       "      <td>2.327880</td>\n",
       "      <td>2.333333</td>\n",
       "      <td>0.005453</td>\n",
       "      <td>-0.002337</td>\n",
       "      <td>2.769595</td>\n",
       "      <td>[2.303603432237226, 2.352156567762775]</td>\n",
       "    </tr>\n",
       "    <tr>\n",
       "      <th>5</th>\n",
       "      <td>Loi geo app. par LN</td>\n",
       "      <td>60000</td>\n",
       "      <td>0.065046</td>\n",
       "      <td>2.323683</td>\n",
       "      <td>2.333333</td>\n",
       "      <td>0.009650</td>\n",
       "      <td>-0.004136</td>\n",
       "      <td>2.786715</td>\n",
       "      <td>[2.3013849712897927, 2.345981695376874]</td>\n",
       "    </tr>\n",
       "    <tr>\n",
       "      <th>6</th>\n",
       "      <td>Loi geo app. par LN</td>\n",
       "      <td>70000</td>\n",
       "      <td>0.074053</td>\n",
       "      <td>2.329429</td>\n",
       "      <td>2.333333</td>\n",
       "      <td>0.003905</td>\n",
       "      <td>-0.001673</td>\n",
       "      <td>2.763516</td>\n",
       "      <td>[2.3089561597562795, 2.349900983100863]</td>\n",
       "    </tr>\n",
       "    <tr>\n",
       "      <th>7</th>\n",
       "      <td>Loi geo app. par LN</td>\n",
       "      <td>80000</td>\n",
       "      <td>0.087057</td>\n",
       "      <td>2.332088</td>\n",
       "      <td>2.333333</td>\n",
       "      <td>0.001246</td>\n",
       "      <td>-0.000534</td>\n",
       "      <td>2.791475</td>\n",
       "      <td>[2.3127435679943233, 2.351431432005677]</td>\n",
       "    </tr>\n",
       "    <tr>\n",
       "      <th>8</th>\n",
       "      <td>Loi geo app. par LN</td>\n",
       "      <td>90000</td>\n",
       "      <td>0.098064</td>\n",
       "      <td>2.327444</td>\n",
       "      <td>2.333333</td>\n",
       "      <td>0.005889</td>\n",
       "      <td>-0.002524</td>\n",
       "      <td>2.790468</td>\n",
       "      <td>[2.3092133847254313, 2.345675504163458]</td>\n",
       "    </tr>\n",
       "    <tr>\n",
       "      <th>9</th>\n",
       "      <td>Loi geo app. par LN</td>\n",
       "      <td>100000</td>\n",
       "      <td>0.108081</td>\n",
       "      <td>2.333520</td>\n",
       "      <td>2.333333</td>\n",
       "      <td>0.000187</td>\n",
       "      <td>0.000080</td>\n",
       "      <td>2.783075</td>\n",
       "      <td>[2.316270324716125, 2.350769675283875]</td>\n",
       "    </tr>\n",
       "  </tbody>\n",
       "</table>\n",
       "</div>"
      ],
      "text/plain": [
       "               methode       n  temps ecoulé  val. approchée  val. réelle  \\\n",
       "0  Loi geo app. par LN   10000      0.015014        2.292200     2.333333   \n",
       "1  Loi geo app. par LN   20000      0.022998        2.333550     2.333333   \n",
       "2  Loi geo app. par LN   30000      0.037034        2.320167     2.333333   \n",
       "3  Loi geo app. par LN   40000      0.044014        2.317850     2.333333   \n",
       "4  Loi geo app. par LN   50000      0.054042        2.327880     2.333333   \n",
       "5  Loi geo app. par LN   60000      0.065046        2.323683     2.333333   \n",
       "6  Loi geo app. par LN   70000      0.074053        2.329429     2.333333   \n",
       "7  Loi geo app. par LN   80000      0.087057        2.332088     2.333333   \n",
       "8  Loi geo app. par LN   90000      0.098064        2.327444     2.333333   \n",
       "9  Loi geo app. par LN  100000      0.108081        2.333520     2.333333   \n",
       "\n",
       "   erreur_abs  erreur relative  ecart-type  \\\n",
       "0    0.041133        -0.017629    2.800075   \n",
       "1    0.000217         0.000093    2.799749   \n",
       "2    0.013167        -0.005643    2.767573   \n",
       "3    0.015483        -0.006636    2.755163   \n",
       "4    0.005453        -0.002337    2.769595   \n",
       "5    0.009650        -0.004136    2.786715   \n",
       "6    0.003905        -0.001673    2.763516   \n",
       "7    0.001246        -0.000534    2.791475   \n",
       "8    0.005889        -0.002524    2.790468   \n",
       "9    0.000187         0.000080    2.783075   \n",
       "\n",
       "                           interval de conf  \n",
       "0    [2.2373185329596104, 2.34708146704039]  \n",
       "1  [2.2947474586931262, 2.3723525413068742]  \n",
       "2  [2.2888486306334777, 2.3514847026998558]  \n",
       "3    [2.290849405764036, 2.344850594235964]  \n",
       "4    [2.303603432237226, 2.352156567762775]  \n",
       "5   [2.3013849712897927, 2.345981695376874]  \n",
       "6   [2.3089561597562795, 2.349900983100863]  \n",
       "7   [2.3127435679943233, 2.351431432005677]  \n",
       "8   [2.3092133847254313, 2.345675504163458]  \n",
       "9    [2.316270324716125, 2.350769675283875]  "
      ]
     },
     "execution_count": 27,
     "metadata": {},
     "output_type": "execute_result"
    }
   ],
   "source": [
    "df_loi_geom_LN"
   ]
  },
  {
   "cell_type": "markdown",
   "metadata": {},
   "source": [
    "# 3.3) Comparaison des methodes fdr vs ln"
   ]
  },
  {
   "cell_type": "code",
   "execution_count": 28,
   "metadata": {
    "collapsed": false
   },
   "outputs": [
    {
     "data": {
      "text/plain": [
       "\"\\n    \\n    EN X: le temps ecoulé \\n    EN Y: le nombre d'individus pour chaque echantillon\\n\\n\""
      ]
     },
     "execution_count": 28,
     "metadata": {},
     "output_type": "execute_result"
    },
    {
     "data": {
      "image/png": "[encoded data removed]",
      "text/plain": [
       "<matplotlib.figure.Figure at 0x1fca52c66d8>"
      ]
     },
     "metadata": {},
     "output_type": "display_data"
    }
   ],
   "source": [
    "''' \n",
    "\n",
    "VITESSE D'APPROXIMATION  \n",
    "\n",
    "'''\n",
    "sns.plt.plot(df_loi_geom_inv_fdr[\"temps ecoulé\"],tab_n) # EN BLEU, inverse de fdr\n",
    "sns.plt.plot(df_loi_geom_LN[\"temps ecoulé\"],tab_n) # EN VERT, ln(1-q)/ln(q)\n",
    "'''\n",
    "    temps simulation par LN(vert) plus rapide que l'inverse de fdr(bleu)\n",
    "    \n",
    "    EN X: le temps ecoulé \n",
    "    EN Y: le nombre d'individus pour chaque echantillon\n",
    "\n",
    "'''"
   ]
  },
  {
   "cell_type": "code",
   "execution_count": 29,
   "metadata": {
    "collapsed": false
   },
   "outputs": [
    {
     "data": {
      "text/plain": [
       "\"\\n        \\n    EN X: le nombre d'individus pour chaque echantillon\\n    EN Y: le ratio d'erreur relative\\n\\n\""
      ]
     },
     "execution_count": 29,
     "metadata": {},
     "output_type": "execute_result"
    },
    {
     "data": {
      "image/png": "[encoded data removed]",
      "text/plain": [
       "<matplotlib.figure.Figure at 0x1fca6412748>"
      ]
     },
     "metadata": {},
     "output_type": "display_data"
    }
   ],
   "source": [
    "''' \n",
    "\n",
    "PRECISION DE CONVERGENCE \n",
    "\n",
    "'''\n",
    "sns.plt.plot(tab_n,df_loi_geom_inv_fdr[\"erreur relative\"])  # EN BLEU, inverse de fdr\n",
    "sns.plt.plot(tab_n,df_loi_geom_LN[\"erreur relative\"])  # EN VERT, ln(1-q)/ln(q)\n",
    "'''\n",
    "        \n",
    "    EN X: le nombre d'individus pour chaque echantillon\n",
    "    EN Y: le ratio d'erreur relative\n",
    "\n",
    "'''"
   ]
  },
  {
   "cell_type": "markdown",
   "metadata": {},
   "source": [
    "# 4.1) Simulation de loi normale par box muller "
   ]
  },
  {
   "cell_type": "code",
   "execution_count": 34,
   "metadata": {
    "collapsed": false
   },
   "outputs": [],
   "source": [
    "esperance_reel = 0\n",
    "data = []\n",
    "for n in tab_n:\n",
    "    xi_simule = []\n",
    "    \n",
    "    start = time.time()\n",
    "    \n",
    "    for index in range(n):\n",
    "        u1 = random.uniform(0,1)\n",
    "        u2 = random.uniform(0,1)\n",
    "        xi = math.sqrt(-2*math.log(u1))*math.cos(2*math.pi*u2)\n",
    "        xi_simule.append(xi)\n",
    "    \n",
    "    end = time.time()\n",
    "    \n",
    "    moyenne_emp = 1/n * sum(xi_simule)\n",
    "    variance     = 1/n*(sum(map(lambda x : (x - moyenne_emp)**2, xi_simule)))\n",
    "    ecart_type   = math.sqrt(variance)\n",
    "    \n",
    "    erreur_abs   = abs(esperance_reel - moyenne_emp) \n",
    "    #erreur_rel   = (moyenne_emp-esperance_reel) / esperance_reel\n",
    "    \n",
    "    cinterval_inf = moyenne_emp-(1.96*ecart_type/math.sqrt(n))\n",
    "    cinterval_sup = moyenne_emp+(1.96*ecart_type/math.sqrt(n))\n",
    "    confidence = [str(cinterval_inf),str(cinterval_sup)]\n",
    "    \n",
    "    data.append([\n",
    "          \"Loi normale par box muller\",n,abs(start-end),moyenne_emp,esperance_reel,erreur_abs,\"/\",ecart_type,confidence\n",
    "    ])\n",
    "    \n",
    "df_loi_box_muller = pd.DataFrame(data,columns=[\"methode\",\"n\",\"temps ecoulé\",\"val. approchée\",\n",
    "                                        \"val. réelle\",\"erreur_abs\",\"erreur relative\",\"ecart-type\",\"interval de conf\"])\n",
    "    "
   ]
  },
  {
   "cell_type": "code",
   "execution_count": 35,
   "metadata": {
    "collapsed": false
   },
   "outputs": [
    {
     "data": {
      "text/html": [
       "<div>\n",
       "<table border=\"1\" class=\"dataframe\">\n",
       "  <thead>\n",
       "    <tr style=\"text-align: right;\">\n",
       "      <th></th>\n",
       "      <th>methode</th>\n",
       "      <th>n</th>\n",
       "      <th>temps ecoulé</th>\n",
       "      <th>val. approchée</th>\n",
       "      <th>val. réelle</th>\n",
       "      <th>erreur_abs</th>\n",
       "      <th>erreur relative</th>\n",
       "      <th>ecart-type</th>\n",
       "      <th>interval de conf</th>\n",
       "    </tr>\n",
       "  </thead>\n",
       "  <tbody>\n",
       "    <tr>\n",
       "      <th>0</th>\n",
       "      <td>Loi normale par box muller</td>\n",
       "      <td>10000</td>\n",
       "      <td>0.016015</td>\n",
       "      <td>0.008629</td>\n",
       "      <td>0</td>\n",
       "      <td>0.008629</td>\n",
       "      <td>/</td>\n",
       "      <td>0.994993</td>\n",
       "      <td>[-0.010872855942439988, 0.028130868334351446]</td>\n",
       "    </tr>\n",
       "    <tr>\n",
       "      <th>1</th>\n",
       "      <td>Loi normale par box muller</td>\n",
       "      <td>20000</td>\n",
       "      <td>0.032023</td>\n",
       "      <td>-0.004185</td>\n",
       "      <td>0</td>\n",
       "      <td>0.004185</td>\n",
       "      <td>/</td>\n",
       "      <td>0.998062</td>\n",
       "      <td>[-0.018017561098649847, 0.00964731162554882]</td>\n",
       "    </tr>\n",
       "    <tr>\n",
       "      <th>2</th>\n",
       "      <td>Loi normale par box muller</td>\n",
       "      <td>30000</td>\n",
       "      <td>0.053038</td>\n",
       "      <td>0.008851</td>\n",
       "      <td>0</td>\n",
       "      <td>0.008851</td>\n",
       "      <td>/</td>\n",
       "      <td>1.000012</td>\n",
       "      <td>[-0.0024656046868581447, 0.020166790781300493]</td>\n",
       "    </tr>\n",
       "    <tr>\n",
       "      <th>3</th>\n",
       "      <td>Loi normale par box muller</td>\n",
       "      <td>40000</td>\n",
       "      <td>0.064045</td>\n",
       "      <td>0.002645</td>\n",
       "      <td>0</td>\n",
       "      <td>0.002645</td>\n",
       "      <td>/</td>\n",
       "      <td>0.995718</td>\n",
       "      <td>[-0.0071132380374202015, 0.012402829868671054]</td>\n",
       "    </tr>\n",
       "    <tr>\n",
       "      <th>4</th>\n",
       "      <td>Loi normale par box muller</td>\n",
       "      <td>50000</td>\n",
       "      <td>0.076054</td>\n",
       "      <td>-0.003633</td>\n",
       "      <td>0</td>\n",
       "      <td>0.003633</td>\n",
       "      <td>/</td>\n",
       "      <td>0.999449</td>\n",
       "      <td>[-0.012393800959889793, 0.005127305978765914]</td>\n",
       "    </tr>\n",
       "    <tr>\n",
       "      <th>5</th>\n",
       "      <td>Loi normale par box muller</td>\n",
       "      <td>60000</td>\n",
       "      <td>0.092061</td>\n",
       "      <td>0.002445</td>\n",
       "      <td>0</td>\n",
       "      <td>0.002445</td>\n",
       "      <td>/</td>\n",
       "      <td>0.997918</td>\n",
       "      <td>[-0.00553985349722275, 0.010430167391038307]</td>\n",
       "    </tr>\n",
       "    <tr>\n",
       "      <th>6</th>\n",
       "      <td>Loi normale par box muller</td>\n",
       "      <td>70000</td>\n",
       "      <td>0.106075</td>\n",
       "      <td>-0.005453</td>\n",
       "      <td>0</td>\n",
       "      <td>0.005453</td>\n",
       "      <td>/</td>\n",
       "      <td>0.998987</td>\n",
       "      <td>[-0.012853899739846394, 0.0019473017472156672]</td>\n",
       "    </tr>\n",
       "    <tr>\n",
       "      <th>7</th>\n",
       "      <td>Loi normale par box muller</td>\n",
       "      <td>80000</td>\n",
       "      <td>0.123083</td>\n",
       "      <td>0.002339</td>\n",
       "      <td>0</td>\n",
       "      <td>0.002339</td>\n",
       "      <td>/</td>\n",
       "      <td>0.995314</td>\n",
       "      <td>[-0.004558673072389268, 0.009235680959442213]</td>\n",
       "    </tr>\n",
       "    <tr>\n",
       "      <th>8</th>\n",
       "      <td>Loi normale par box muller</td>\n",
       "      <td>90000</td>\n",
       "      <td>0.140098</td>\n",
       "      <td>-0.003763</td>\n",
       "      <td>0</td>\n",
       "      <td>0.003763</td>\n",
       "      <td>/</td>\n",
       "      <td>0.997056</td>\n",
       "      <td>[-0.010277549716358119, 0.002750653104702119]</td>\n",
       "    </tr>\n",
       "    <tr>\n",
       "      <th>9</th>\n",
       "      <td>Loi normale par box muller</td>\n",
       "      <td>100000</td>\n",
       "      <td>0.157111</td>\n",
       "      <td>-0.004621</td>\n",
       "      <td>0</td>\n",
       "      <td>0.004621</td>\n",
       "      <td>/</td>\n",
       "      <td>0.999963</td>\n",
       "      <td>[-0.010818367897752394, 0.0015773075998526346]</td>\n",
       "    </tr>\n",
       "  </tbody>\n",
       "</table>\n",
       "</div>"
      ],
      "text/plain": [
       "                      methode       n  temps ecoulé  val. approchée  \\\n",
       "0  Loi normale par box muller   10000      0.016015        0.008629   \n",
       "1  Loi normale par box muller   20000      0.032023       -0.004185   \n",
       "2  Loi normale par box muller   30000      0.053038        0.008851   \n",
       "3  Loi normale par box muller   40000      0.064045        0.002645   \n",
       "4  Loi normale par box muller   50000      0.076054       -0.003633   \n",
       "5  Loi normale par box muller   60000      0.092061        0.002445   \n",
       "6  Loi normale par box muller   70000      0.106075       -0.005453   \n",
       "7  Loi normale par box muller   80000      0.123083        0.002339   \n",
       "8  Loi normale par box muller   90000      0.140098       -0.003763   \n",
       "9  Loi normale par box muller  100000      0.157111       -0.004621   \n",
       "\n",
       "   val. réelle  erreur_abs erreur relative  ecart-type  \\\n",
       "0            0    0.008629               /    0.994993   \n",
       "1            0    0.004185               /    0.998062   \n",
       "2            0    0.008851               /    1.000012   \n",
       "3            0    0.002645               /    0.995718   \n",
       "4            0    0.003633               /    0.999449   \n",
       "5            0    0.002445               /    0.997918   \n",
       "6            0    0.005453               /    0.998987   \n",
       "7            0    0.002339               /    0.995314   \n",
       "8            0    0.003763               /    0.997056   \n",
       "9            0    0.004621               /    0.999963   \n",
       "\n",
       "                                 interval de conf  \n",
       "0   [-0.010872855942439988, 0.028130868334351446]  \n",
       "1    [-0.018017561098649847, 0.00964731162554882]  \n",
       "2  [-0.0024656046868581447, 0.020166790781300493]  \n",
       "3  [-0.0071132380374202015, 0.012402829868671054]  \n",
       "4   [-0.012393800959889793, 0.005127305978765914]  \n",
       "5    [-0.00553985349722275, 0.010430167391038307]  \n",
       "6  [-0.012853899739846394, 0.0019473017472156672]  \n",
       "7   [-0.004558673072389268, 0.009235680959442213]  \n",
       "8   [-0.010277549716358119, 0.002750653104702119]  \n",
       "9  [-0.010818367897752394, 0.0015773075998526346]  "
      ]
     },
     "execution_count": 35,
     "metadata": {},
     "output_type": "execute_result"
    }
   ],
   "source": [
    "df_loi_box_muller"
   ]
  },
  {
   "cell_type": "markdown",
   "metadata": {},
   "source": [
    "# 4.2) Simulation d'une loi normale par coordonnées polaires"
   ]
  },
  {
   "cell_type": "code",
   "execution_count": 44,
   "metadata": {
    "collapsed": true
   },
   "outputs": [],
   "source": [
    "esperance_reel = 0\n",
    "data = []\n",
    "for n in tab_n:\n",
    "    xi_simule = []\n",
    "    \n",
    "    start = time.time()\n",
    "    \n",
    "    for index in range(int(n/2)):\n",
    "        while True:\n",
    "            v1 = 2*random.uniform(0,1)-1\n",
    "            v2 = 2*random.uniform(0,1)-1\n",
    "            s = (v1**2) + (v2**2)\n",
    "            if s < 1 : \n",
    "                x = v1* ((-2*math.log(s)/s)**0.5)\n",
    "                y = v2* ((-2*math.log(s)/s)**0.5)        \n",
    "                xi_simule.append(x)\n",
    "                xi_simule.append(y)\n",
    "                break     \n",
    "    \n",
    "    end = time.time()\n",
    "    \n",
    "    moyenne_emp = 1/n * sum(xi_simule)\n",
    "    variance     = 1/n*(sum(map(lambda x : (x - moyenne_emp)**2, xi_simule)))\n",
    "    ecart_type   = math.sqrt(variance)\n",
    "    \n",
    "    erreur_abs   = abs(esperance_reel - moyenne_emp) \n",
    "    #erreur_rel   = (moyenne_emp-esperance_reel) / esperance_reel\n",
    "    \n",
    "    cinterval_inf = moyenne_emp-(1.96*ecart_type/math.sqrt(n))\n",
    "    cinterval_sup = moyenne_emp+(1.96*ecart_type/math.sqrt(n))\n",
    "    confidence = [str(cinterval_inf),str(cinterval_sup)]\n",
    "    \n",
    "    data.append([\n",
    "          \"Loi normale par coordonnées polaires\",n,abs(start-end),moyenne_emp,esperance_reel,erreur_abs,\"/\",ecart_type,confidence\n",
    "    ])\n",
    "    \n",
    "df_coord_pol = pd.DataFrame(data,columns=[\"methode\",\"n\",\"temps ecoulé\",\"val. approchée\",\n",
    "                                        \"val. réelle\",\"erreur_abs\",\"erreur relative\",\"ecart-type\",\"interval de conf\"])\n",
    "    "
   ]
  },
  {
   "cell_type": "code",
   "execution_count": 45,
   "metadata": {
    "collapsed": false
   },
   "outputs": [
    {
     "data": {
      "text/html": [
       "<div>\n",
       "<table border=\"1\" class=\"dataframe\">\n",
       "  <thead>\n",
       "    <tr style=\"text-align: right;\">\n",
       "      <th></th>\n",
       "      <th>methode</th>\n",
       "      <th>n</th>\n",
       "      <th>temps ecoulé</th>\n",
       "      <th>val. approchée</th>\n",
       "      <th>val. réelle</th>\n",
       "      <th>erreur_abs</th>\n",
       "      <th>erreur relative</th>\n",
       "      <th>ecart-type</th>\n",
       "      <th>interval de conf</th>\n",
       "    </tr>\n",
       "  </thead>\n",
       "  <tbody>\n",
       "    <tr>\n",
       "      <th>0</th>\n",
       "      <td>Loi normale par coordonnées polaires</td>\n",
       "      <td>10000</td>\n",
       "      <td>0.015011</td>\n",
       "      <td>0.007316</td>\n",
       "      <td>0</td>\n",
       "      <td>0.007316</td>\n",
       "      <td>/</td>\n",
       "      <td>0.995819</td>\n",
       "      <td>[-0.012201731423243128, 0.026834367317291254]</td>\n",
       "    </tr>\n",
       "    <tr>\n",
       "      <th>1</th>\n",
       "      <td>Loi normale par coordonnées polaires</td>\n",
       "      <td>20000</td>\n",
       "      <td>0.030022</td>\n",
       "      <td>-0.002100</td>\n",
       "      <td>0</td>\n",
       "      <td>0.002100</td>\n",
       "      <td>/</td>\n",
       "      <td>1.001672</td>\n",
       "      <td>[-0.015982249680582164, 0.011782675704344967]</td>\n",
       "    </tr>\n",
       "    <tr>\n",
       "      <th>2</th>\n",
       "      <td>Loi normale par coordonnées polaires</td>\n",
       "      <td>30000</td>\n",
       "      <td>0.046033</td>\n",
       "      <td>0.005063</td>\n",
       "      <td>0</td>\n",
       "      <td>0.005063</td>\n",
       "      <td>/</td>\n",
       "      <td>0.996209</td>\n",
       "      <td>[-0.006210204580039024, 0.016336127742264672]</td>\n",
       "    </tr>\n",
       "    <tr>\n",
       "      <th>3</th>\n",
       "      <td>Loi normale par coordonnées polaires</td>\n",
       "      <td>40000</td>\n",
       "      <td>0.059052</td>\n",
       "      <td>-0.000169</td>\n",
       "      <td>0</td>\n",
       "      <td>0.000169</td>\n",
       "      <td>/</td>\n",
       "      <td>0.997800</td>\n",
       "      <td>[-0.009947287965709973, 0.009609591409405937]</td>\n",
       "    </tr>\n",
       "    <tr>\n",
       "      <th>4</th>\n",
       "      <td>Loi normale par coordonnées polaires</td>\n",
       "      <td>50000</td>\n",
       "      <td>0.071054</td>\n",
       "      <td>0.007822</td>\n",
       "      <td>0</td>\n",
       "      <td>0.007822</td>\n",
       "      <td>/</td>\n",
       "      <td>0.996488</td>\n",
       "      <td>[-0.0009122032210085364, 0.016556995775161933]</td>\n",
       "    </tr>\n",
       "    <tr>\n",
       "      <th>5</th>\n",
       "      <td>Loi normale par coordonnées polaires</td>\n",
       "      <td>60000</td>\n",
       "      <td>0.086066</td>\n",
       "      <td>0.003771</td>\n",
       "      <td>0</td>\n",
       "      <td>0.003771</td>\n",
       "      <td>/</td>\n",
       "      <td>0.998526</td>\n",
       "      <td>[-0.004218437434071356, 0.01176130977138605]</td>\n",
       "    </tr>\n",
       "    <tr>\n",
       "      <th>6</th>\n",
       "      <td>Loi normale par coordonnées polaires</td>\n",
       "      <td>70000</td>\n",
       "      <td>0.098070</td>\n",
       "      <td>0.005668</td>\n",
       "      <td>0</td>\n",
       "      <td>0.005668</td>\n",
       "      <td>/</td>\n",
       "      <td>0.998709</td>\n",
       "      <td>[-0.0017308675248928892, 0.013066217000848424]</td>\n",
       "    </tr>\n",
       "    <tr>\n",
       "      <th>7</th>\n",
       "      <td>Loi normale par coordonnées polaires</td>\n",
       "      <td>80000</td>\n",
       "      <td>0.113079</td>\n",
       "      <td>-0.005274</td>\n",
       "      <td>0</td>\n",
       "      <td>0.005274</td>\n",
       "      <td>/</td>\n",
       "      <td>0.999300</td>\n",
       "      <td>[-0.01219926717213696, 0.0016503269056373877]</td>\n",
       "    </tr>\n",
       "    <tr>\n",
       "      <th>8</th>\n",
       "      <td>Loi normale par coordonnées polaires</td>\n",
       "      <td>90000</td>\n",
       "      <td>0.130084</td>\n",
       "      <td>0.001953</td>\n",
       "      <td>0</td>\n",
       "      <td>0.001953</td>\n",
       "      <td>/</td>\n",
       "      <td>1.002218</td>\n",
       "      <td>[-0.004594597895804125, 0.00850104501593632]</td>\n",
       "    </tr>\n",
       "    <tr>\n",
       "      <th>9</th>\n",
       "      <td>Loi normale par coordonnées polaires</td>\n",
       "      <td>100000</td>\n",
       "      <td>0.157102</td>\n",
       "      <td>-0.005369</td>\n",
       "      <td>0</td>\n",
       "      <td>0.005369</td>\n",
       "      <td>/</td>\n",
       "      <td>0.995158</td>\n",
       "      <td>[-0.011537270017506984, 0.0007988347189662546]</td>\n",
       "    </tr>\n",
       "  </tbody>\n",
       "</table>\n",
       "</div>"
      ],
      "text/plain": [
       "                                methode       n  temps ecoulé  val. approchée  \\\n",
       "0  Loi normale par coordonnées polaires   10000      0.015011        0.007316   \n",
       "1  Loi normale par coordonnées polaires   20000      0.030022       -0.002100   \n",
       "2  Loi normale par coordonnées polaires   30000      0.046033        0.005063   \n",
       "3  Loi normale par coordonnées polaires   40000      0.059052       -0.000169   \n",
       "4  Loi normale par coordonnées polaires   50000      0.071054        0.007822   \n",
       "5  Loi normale par coordonnées polaires   60000      0.086066        0.003771   \n",
       "6  Loi normale par coordonnées polaires   70000      0.098070        0.005668   \n",
       "7  Loi normale par coordonnées polaires   80000      0.113079       -0.005274   \n",
       "8  Loi normale par coordonnées polaires   90000      0.130084        0.001953   \n",
       "9  Loi normale par coordonnées polaires  100000      0.157102       -0.005369   \n",
       "\n",
       "   val. réelle  erreur_abs erreur relative  ecart-type  \\\n",
       "0            0    0.007316               /    0.995819   \n",
       "1            0    0.002100               /    1.001672   \n",
       "2            0    0.005063               /    0.996209   \n",
       "3            0    0.000169               /    0.997800   \n",
       "4            0    0.007822               /    0.996488   \n",
       "5            0    0.003771               /    0.998526   \n",
       "6            0    0.005668               /    0.998709   \n",
       "7            0    0.005274               /    0.999300   \n",
       "8            0    0.001953               /    1.002218   \n",
       "9            0    0.005369               /    0.995158   \n",
       "\n",
       "                                 interval de conf  \n",
       "0   [-0.012201731423243128, 0.026834367317291254]  \n",
       "1   [-0.015982249680582164, 0.011782675704344967]  \n",
       "2   [-0.006210204580039024, 0.016336127742264672]  \n",
       "3   [-0.009947287965709973, 0.009609591409405937]  \n",
       "4  [-0.0009122032210085364, 0.016556995775161933]  \n",
       "5    [-0.004218437434071356, 0.01176130977138605]  \n",
       "6  [-0.0017308675248928892, 0.013066217000848424]  \n",
       "7   [-0.01219926717213696, 0.0016503269056373877]  \n",
       "8    [-0.004594597895804125, 0.00850104501593632]  \n",
       "9  [-0.011537270017506984, 0.0007988347189662546]  "
      ]
     },
     "execution_count": 45,
     "metadata": {},
     "output_type": "execute_result"
    }
   ],
   "source": [
    "df_coord_pol"
   ]
  },
  {
   "cell_type": "markdown",
   "metadata": {},
   "source": [
    "# 4.3) Comparaison des deux methodes box muller vs coord. polaires"
   ]
  },
  {
   "cell_type": "code",
   "execution_count": 57,
   "metadata": {
    "collapsed": false
   },
   "outputs": [
    {
     "data": {
      "text/plain": [
       "\"\\n    temps simulation par LN(vert) plus rapide que l'inverse de fdr(bleu)\\n    \\n    EN X: le temps ecoulé \\n    EN Y: le nombre d'individus pour chaque echantillon\\n\\n\""
      ]
     },
     "execution_count": 57,
     "metadata": {},
     "output_type": "execute_result"
    },
    {
     "data": {
      "image/png": "[encoded data removed]",
      "text/plain": [
       "<matplotlib.figure.Figure at 0x1fca63f7c18>"
      ]
     },
     "metadata": {},
     "output_type": "display_data"
    }
   ],
   "source": [
    "''' \n",
    "\n",
    "VITESSE D'APPROXIMATION  \n",
    "\n",
    "'''\n",
    "sns.plt.plot(df_loi_box_muller[\"temps ecoulé\"],tab_n) # EN BLEU, box muller\n",
    "sns.plt.plot(df_coord_pol[\"temps ecoulé\"],tab_n) # EN VERT, coord pol\n",
    "'''\n",
    "    temps simulation par coordonnées polaire plus rapide que box muller\n",
    "    \n",
    "    EN X: le temps ecoulé \n",
    "    EN Y: le nombre d'individus pour chaque echantillon\n",
    "\n",
    "'''"
   ]
  },
  {
   "cell_type": "code",
   "execution_count": 59,
   "metadata": {
    "collapsed": false
   },
   "outputs": [
    {
     "data": {
      "text/plain": [
       "\"\\n        \\n    AXE X: le nombre d'individus pour chaque echantillon\\n    AXE Y: le ratio d'erreur relative\\n\\n\""
      ]
     },
     "execution_count": 59,
     "metadata": {},
     "output_type": "execute_result"
    },
    {
     "data": {
      "image/png": "[encoded data removed]",
      "text/plain": [
       "<matplotlib.figure.Figure at 0x1fca4be9390>"
      ]
     },
     "metadata": {},
     "output_type": "display_data"
    }
   ],
   "source": [
    "''' \n",
    "\n",
    "PRECISION DE CONVERGENCE ( erreur absolue)\n",
    "\n",
    "'''\n",
    "sns.plt.plot(tab_n,df_loi_box_muller[\"erreur_abs\"]) # EN BLEU box muller\n",
    "sns.plt.plot(tab_n,df_coord_pol[\"erreur_abs\"]) #VERT loi coord pol.\n",
    "'''\n",
    "        \n",
    "    AXE X: le nombre d'individus pour chaque echantillon\n",
    "    AXE Y: le ratio d'erreur relative\n",
    "\n",
    "'''"
   ]
  },
  {
   "cell_type": "markdown",
   "metadata": {},
   "source": [
    "# 5) TP N° - histo simple des echantillons"
   ]
  },
  {
   "cell_type": "code",
   "execution_count": 155,
   "metadata": {
    "collapsed": false
   },
   "outputs": [],
   "source": [
    "data = pd.read_csv(\"FichierExos-2-mars-17.csv\",sep=\";\")"
   ]
  },
  {
   "cell_type": "code",
   "execution_count": 70,
   "metadata": {
    "collapsed": false
   },
   "outputs": [
    {
     "data": {
      "text/html": [
       "<div>\n",
       "<table border=\"1\" class=\"dataframe\">\n",
       "  <thead>\n",
       "    <tr style=\"text-align: right;\">\n",
       "      <th></th>\n",
       "      <th>numero</th>\n",
       "      <th>echantillon1</th>\n",
       "      <th>echantillon 2</th>\n",
       "      <th>echantillon 3</th>\n",
       "    </tr>\n",
       "  </thead>\n",
       "  <tbody>\n",
       "    <tr>\n",
       "      <th>0</th>\n",
       "      <td>1</td>\n",
       "      <td>8.637610</td>\n",
       "      <td>3.671722</td>\n",
       "      <td>6.872459</td>\n",
       "    </tr>\n",
       "    <tr>\n",
       "      <th>1</th>\n",
       "      <td>2</td>\n",
       "      <td>7.384429</td>\n",
       "      <td>2.061696</td>\n",
       "      <td>5.348873</td>\n",
       "    </tr>\n",
       "    <tr>\n",
       "      <th>2</th>\n",
       "      <td>3</td>\n",
       "      <td>7.943230</td>\n",
       "      <td>2.700771</td>\n",
       "      <td>5.981349</td>\n",
       "    </tr>\n",
       "    <tr>\n",
       "      <th>3</th>\n",
       "      <td>4</td>\n",
       "      <td>6.736876</td>\n",
       "      <td>1.465122</td>\n",
       "      <td>4.699120</td>\n",
       "    </tr>\n",
       "    <tr>\n",
       "      <th>4</th>\n",
       "      <td>5</td>\n",
       "      <td>12.569051</td>\n",
       "      <td>13.548792</td>\n",
       "      <td>15.086650</td>\n",
       "    </tr>\n",
       "  </tbody>\n",
       "</table>\n",
       "</div>"
      ],
      "text/plain": [
       "   numero  echantillon1  echantillon 2  echantillon 3\n",
       "0       1      8.637610       3.671722       6.872459\n",
       "1       2      7.384429       2.061696       5.348873\n",
       "2       3      7.943230       2.700771       5.981349\n",
       "3       4      6.736876       1.465122       4.699120\n",
       "4       5     12.569051      13.548792      15.086650"
      ]
     },
     "execution_count": 70,
     "metadata": {},
     "output_type": "execute_result"
    }
   ],
   "source": [
    "data.head()"
   ]
  },
  {
   "cell_type": "code",
   "execution_count": 156,
   "metadata": {
    "collapsed": false
   },
   "outputs": [],
   "source": [
    "data = data.drop(\"numero\",axis=1)"
   ]
  },
  {
   "cell_type": "code",
   "execution_count": 157,
   "metadata": {
    "collapsed": true
   },
   "outputs": [],
   "source": [
    "melted = pd.melt(data)"
   ]
  },
  {
   "cell_type": "markdown",
   "metadata": {},
   "source": [
    "### 5.1 ) observation d'histogramme des echantillons , (bins = 60)"
   ]
  },
  {
   "cell_type": "code",
   "execution_count": 248,
   "metadata": {
    "collapsed": false
   },
   "outputs": [
    {
     "data": {
      "image/png": "[encoded data removed]",
      "text/plain": [
       "<matplotlib.figure.Figure at 0x29f53cb3c88>"
      ]
     },
     "metadata": {},
     "output_type": "display_data"
    }
   ],
   "source": [
    "g = sns.FacetGrid(melted, col=\"variable\",size=5)\n",
    "g = g.map(plt.hist, \"value\", bins=30, color=\"r\",)"
   ]
  },
  {
   "cell_type": "code",
   "execution_count": null,
   "metadata": {
    "collapsed": true
   },
   "outputs": [],
   "source": [
    "g = sns.FacetGrid(melted, col=\"variable\",size=5)\n",
    "g = g.map(plt.hist, \"value\", bins=60, color=\"r\")"
   ]
  },
  {
   "cell_type": "markdown",
   "metadata": {},
   "source": [
    "### 5.2) Transformation LOG de l'échantillon et observation des histogrammes (bins = 60) "
   ]
  },
  {
   "cell_type": "code",
   "execution_count": null,
   "metadata": {
    "collapsed": false
   },
   "outputs": [],
   "source": [
    "# sous log :"
   ]
  },
  {
   "cell_type": "code",
   "execution_count": 250,
   "metadata": {
    "collapsed": false
   },
   "outputs": [
    {
     "name": "stderr",
     "output_type": "stream",
     "text": [
      "C:\\ProgramData\\Anaconda3\\lib\\site-packages\\ipykernel\\__main__.py:1: RuntimeWarning: invalid value encountered in log\n",
      "  if __name__ == '__main__':\n"
     ]
    }
   ],
   "source": [
    "melted.value = np.log(melted.value)"
   ]
  },
  {
   "cell_type": "code",
   "execution_count": 251,
   "metadata": {
    "collapsed": false
   },
   "outputs": [
    {
     "data": {
      "image/png": "[encoded data removed]",
      "text/plain": [
       "<matplotlib.figure.Figure at 0x29f54924048>"
      ]
     },
     "metadata": {},
     "output_type": "display_data"
    }
   ],
   "source": [
    "g = sns.FacetGrid(melted, col=\"variable\",size=5)\n",
    "g = g.map(plt.hist, \"value\", bins=30, color=\"g\",)"
   ]
  },
  {
   "cell_type": "code",
   "execution_count": 254,
   "metadata": {
    "collapsed": false
   },
   "outputs": [
    {
     "data": {
      "text/html": [
       "<div>\n",
       "<table border=\"1\" class=\"dataframe\">\n",
       "  <thead>\n",
       "    <tr style=\"text-align: right;\">\n",
       "      <th></th>\n",
       "      <th>echantillon1</th>\n",
       "      <th>echantillon 2</th>\n",
       "      <th>echantillon 3</th>\n",
       "    </tr>\n",
       "  </thead>\n",
       "  <tbody>\n",
       "    <tr>\n",
       "      <th>count</th>\n",
       "      <td>500.000000</td>\n",
       "      <td>500.000000</td>\n",
       "      <td>500.000000</td>\n",
       "    </tr>\n",
       "    <tr>\n",
       "      <th>mean</th>\n",
       "      <td>8.089597</td>\n",
       "      <td>4.135782</td>\n",
       "      <td>7.009845</td>\n",
       "    </tr>\n",
       "    <tr>\n",
       "      <th>std</th>\n",
       "      <td>2.499882</td>\n",
       "      <td>4.462157</td>\n",
       "      <td>4.104325</td>\n",
       "    </tr>\n",
       "    <tr>\n",
       "      <th>min</th>\n",
       "      <td>-0.925944</td>\n",
       "      <td>0.000713</td>\n",
       "      <td>1.014921</td>\n",
       "    </tr>\n",
       "    <tr>\n",
       "      <th>25%</th>\n",
       "      <td>6.456409</td>\n",
       "      <td>1.250496</td>\n",
       "      <td>4.442791</td>\n",
       "    </tr>\n",
       "    <tr>\n",
       "      <th>50%</th>\n",
       "      <td>7.948792</td>\n",
       "      <td>2.707749</td>\n",
       "      <td>5.988005</td>\n",
       "    </tr>\n",
       "    <tr>\n",
       "      <th>75%</th>\n",
       "      <td>9.681979</td>\n",
       "      <td>5.536576</td>\n",
       "      <td>8.468879</td>\n",
       "    </tr>\n",
       "    <tr>\n",
       "      <th>max</th>\n",
       "      <td>17.346936</td>\n",
       "      <td>37.154946</td>\n",
       "      <td>39.227859</td>\n",
       "    </tr>\n",
       "  </tbody>\n",
       "</table>\n",
       "</div>"
      ],
      "text/plain": [
       "       echantillon1  echantillon 2  echantillon 3\n",
       "count    500.000000     500.000000     500.000000\n",
       "mean       8.089597       4.135782       7.009845\n",
       "std        2.499882       4.462157       4.104325\n",
       "min       -0.925944       0.000713       1.014921\n",
       "25%        6.456409       1.250496       4.442791\n",
       "50%        7.948792       2.707749       5.988005\n",
       "75%        9.681979       5.536576       8.468879\n",
       "max       17.346936      37.154946      39.227859"
      ]
     },
     "execution_count": 254,
     "metadata": {},
     "output_type": "execute_result"
    }
   ],
   "source": [
    "data.describe()"
   ]
  },
  {
   "cell_type": "markdown",
   "metadata": {},
   "source": [
    "# 1) determination loi echantillon 1"
   ]
  },
  {
   "cell_type": "code",
   "execution_count": 259,
   "metadata": {
    "collapsed": false
   },
   "outputs": [
    {
     "data": {
      "text/plain": [
       "<matplotlib.text.Text at 0x29f4eae37f0>"
      ]
     },
     "execution_count": 259,
     "metadata": {},
     "output_type": "execute_result"
    },
    {
     "data": {
      "image/png": "[encoded data removed]",
      "text/plain": [
       "<matplotlib.figure.Figure at 0x29f538099b0>"
      ]
     },
     "metadata": {},
     "output_type": "display_data"
    }
   ],
   "source": [
    "fig = plt.figure()\n",
    "ax1 = fig.add_subplot(111)\n",
    "res = stats.probplot(data[\"echantillon1\"], dist=stats.norm, plot=ax1)\n",
    "ax.set_title(\"Probplot for exponential distrib\")"
   ]
  },
  {
   "cell_type": "code",
   "execution_count": 265,
   "metadata": {
    "collapsed": false
   },
   "outputs": [
    {
     "data": {
      "text/plain": [
       "<matplotlib.text.Text at 0x29f4eae37f0>"
      ]
     },
     "execution_count": 265,
     "metadata": {},
     "output_type": "execute_result"
    },
    {
     "data": {
      "image/png": "[encoded data removed]",
      "text/plain": [
       "<matplotlib.figure.Figure at 0x29f4cabc198>"
      ]
     },
     "metadata": {},
     "output_type": "display_data"
    }
   ],
   "source": [
    "fig = plt.figure()\n",
    "ax1 = fig.add_subplot(111)\n",
    "res = stats.probplot(data[\"echantillon1\"], dist=stats.expon,sparams=(1/np.mean(data[\"echantillon1\"])), plot=ax1)\n",
    "ax.set_title(\"Probplot for exponential distrib\")"
   ]
  },
  {
   "cell_type": "code",
   "execution_count": 284,
   "metadata": {
    "collapsed": false
   },
   "outputs": [
    {
     "data": {
      "text/plain": [
       "<matplotlib.text.Text at 0x29f4eae37f0>"
      ]
     },
     "execution_count": 284,
     "metadata": {},
     "output_type": "execute_result"
    },
    {
     "data": {
      "image/png": "[encoded data removed]",
      "text/plain": [
       "<matplotlib.figure.Figure at 0x29f53621400>"
      ]
     },
     "metadata": {},
     "output_type": "display_data"
    }
   ],
   "source": [
    "\n",
    "fig = plt.figure()\n",
    "ax1 = fig.add_subplot(111)\n",
    "res = stats.probplot(data[\"echantillon1\"], dist=stats.lognorm,sparams=(1/np.mean(data[\"echantillon1\"])), plot=ax1)\n",
    "ax.set_title(\"Probplot for exponential distrib\")"
   ]
  },
  {
   "cell_type": "markdown",
   "metadata": {},
   "source": [
    "# 2) determination de la loi echantillon 2 "
   ]
  },
  {
   "cell_type": "code",
   "execution_count": 274,
   "metadata": {
    "collapsed": false
   },
   "outputs": [
    {
     "data": {
      "text/plain": [
       "<matplotlib.text.Text at 0x29f53e71d68>"
      ]
     },
     "execution_count": 274,
     "metadata": {},
     "output_type": "execute_result"
    },
    {
     "data": {
      "image/png": "[encoded data removed]",
      "text/plain": [
       "<matplotlib.figure.Figure at 0x29f53a872e8>"
      ]
     },
     "metadata": {},
     "output_type": "display_data"
    }
   ],
   "source": [
    "fig = plt.figure()\n",
    "ax1 = fig.add_subplot(111)\n",
    "res = stats.probplot(data[\"echantillon 2\"], dist=stats.norm,sparams=(np.mean(data[\"echantillon 2\"])), plot=ax1)\n",
    "ax1.set_title(\"Probplot for normal distrib\")"
   ]
  },
  {
   "cell_type": "code",
   "execution_count": 267,
   "metadata": {
    "collapsed": false
   },
   "outputs": [
    {
     "data": {
      "text/plain": [
       "<matplotlib.text.Text at 0x29f4cce4550>"
      ]
     },
     "execution_count": 267,
     "metadata": {},
     "output_type": "execute_result"
    },
    {
     "data": {
      "image/png": "[encoded data removed]",
      "text/plain": [
       "<matplotlib.figure.Figure at 0x29f4dc3fc88>"
      ]
     },
     "metadata": {},
     "output_type": "display_data"
    }
   ],
   "source": [
    "fig = plt.figure()\n",
    "ax1 = fig.add_subplot(111)\n",
    "res = stats.probplot(data[\"echantillon 2\"], dist=stats.expon,sparams=(1/np.mean(data[\"echantillon 2\"])), plot=ax1)\n",
    "ax1.set_title(\"Probplot for exponential distrib\")"
   ]
  },
  {
   "cell_type": "code",
   "execution_count": 283,
   "metadata": {
    "collapsed": false
   },
   "outputs": [
    {
     "data": {
      "text/plain": [
       "<matplotlib.text.Text at 0x29f540067f0>"
      ]
     },
     "execution_count": 283,
     "metadata": {},
     "output_type": "execute_result"
    },
    {
     "data": {
      "image/png": "[encoded data removed]",
      "text/plain": [
       "<matplotlib.figure.Figure at 0x29f53fc7c88>"
      ]
     },
     "metadata": {},
     "output_type": "display_data"
    }
   ],
   "source": [
    "fig = plt.figure()\n",
    "ax1 = fig.add_subplot(111)\n",
    "res = stats.probplot(data[\"echantillon 2\"], dist=stats.lognorm,sparams=(1/np.mean(data[\"echantillon 2\"])), plot=ax1,)\n",
    "ax1.set_title(\"Probplot for lognormal distrib\")"
   ]
  },
  {
   "cell_type": "markdown",
   "metadata": {},
   "source": [
    "# 3) determination de la loi echantillon 3 "
   ]
  },
  {
   "cell_type": "code",
   "execution_count": 278,
   "metadata": {
    "collapsed": false
   },
   "outputs": [
    {
     "data": {
      "text/plain": [
       "<matplotlib.text.Text at 0x29f53a320b8>"
      ]
     },
     "execution_count": 278,
     "metadata": {},
     "output_type": "execute_result"
    },
    {
     "data": {
      "image/png": "[encoded data removed]",
      "text/plain": [
       "<matplotlib.figure.Figure at 0x29f53543dd8>"
      ]
     },
     "metadata": {},
     "output_type": "display_data"
    }
   ],
   "source": [
    "fig = plt.figure()\n",
    "ax1 = fig.add_subplot(111)\n",
    "res = stats.probplot(data[\"echantillon 3\"], dist=stats.norm,sparams=(np.mean(data[\"echantillon 3\"])), plot=ax1)\n",
    "ax1.set_title(\"Probplot for normal distrib\")"
   ]
  },
  {
   "cell_type": "code",
   "execution_count": 279,
   "metadata": {
    "collapsed": false
   },
   "outputs": [
    {
     "data": {
      "text/plain": [
       "<matplotlib.text.Text at 0x29f53eb83c8>"
      ]
     },
     "execution_count": 279,
     "metadata": {},
     "output_type": "execute_result"
    },
    {
     "data": {
      "image/png": "[encoded data removed]",
      "text/plain": [
       "<matplotlib.figure.Figure at 0x29f53b12898>"
      ]
     },
     "metadata": {},
     "output_type": "display_data"
    }
   ],
   "source": [
    "fig = plt.figure()\n",
    "ax1 = fig.add_subplot(111)\n",
    "res = stats.probplot(data[\"echantillon 3\"], dist=stats.expon,sparams=(1/np.mean(data[\"echantillon 3\"])), plot=ax1)\n",
    "ax1.set_title(\"Probplot for exponential distrib\")"
   ]
  },
  {
   "cell_type": "code",
   "execution_count": 282,
   "metadata": {
    "collapsed": false
   },
   "outputs": [
    {
     "data": {
      "text/plain": [
       "<matplotlib.text.Text at 0x29f53f7b8d0>"
      ]
     },
     "execution_count": 282,
     "metadata": {},
     "output_type": "execute_result"
    },
    {
     "data": {
      "image/png": "[encoded data removed]",
      "text/plain": [
       "<matplotlib.figure.Figure at 0x29f53827cf8>"
      ]
     },
     "metadata": {},
     "output_type": "display_data"
    }
   ],
   "source": [
    "fig = plt.figure()\n",
    "ax1 = fig.add_subplot(111)\n",
    "res = stats.probplot(data[\"echantillon 3\"], dist=stats.lognorm,sparams=(1/np.mean(data[\"echantillon 3\"])), plot=ax1,)\n",
    "ax1.set_title(\"Probplot for lognormal distrib\")"
   ]
  },
  {
   "cell_type": "markdown",
   "metadata": {},
   "source": [
    "# 4) determination pour l'échantillon 2 & 3 en utilisant le log"
   ]
  },
  {
   "cell_type": "code",
   "execution_count": 3,
   "metadata": {
    "collapsed": false
   },
   "outputs": [
    {
     "ename": "NameError",
     "evalue": "name 'data' is not defined",
     "output_type": "error",
     "traceback": [
      "\u001b[0;31m---------------------------------------------------------------------------\u001b[0m",
      "\u001b[0;31mNameError\u001b[0m                                 Traceback (most recent call last)",
      "\u001b[0;32m<ipython-input-3-3cfa59a949c8>\u001b[0m in \u001b[0;36m<module>\u001b[0;34m()\u001b[0m\n\u001b[1;32m      2\u001b[0m \u001b[0max1\u001b[0m \u001b[1;33m=\u001b[0m \u001b[0mfig\u001b[0m\u001b[1;33m.\u001b[0m\u001b[0madd_subplot\u001b[0m\u001b[1;33m(\u001b[0m\u001b[1;36m111\u001b[0m\u001b[1;33m)\u001b[0m\u001b[1;33m\u001b[0m\u001b[0m\n\u001b[1;32m      3\u001b[0m \u001b[1;33m\u001b[0m\u001b[0m\n\u001b[0;32m----> 4\u001b[0;31m \u001b[0mesperance_empirique\u001b[0m \u001b[1;33m=\u001b[0m \u001b[0mnp\u001b[0m\u001b[1;33m.\u001b[0m\u001b[0mmean\u001b[0m\u001b[1;33m(\u001b[0m\u001b[0mdata\u001b[0m\u001b[1;33m[\u001b[0m\u001b[1;34m\"echantillon 2\"\u001b[0m\u001b[1;33m]\u001b[0m\u001b[1;33m)\u001b[0m\u001b[1;33m\u001b[0m\u001b[0m\n\u001b[0m\u001b[1;32m      5\u001b[0m \u001b[0mstd_squared\u001b[0m         \u001b[1;33m=\u001b[0m \u001b[0mnp\u001b[0m\u001b[1;33m.\u001b[0m\u001b[0mstd\u001b[0m\u001b[1;33m(\u001b[0m\u001b[0mdata\u001b[0m\u001b[1;33m[\u001b[0m\u001b[1;34m\"echantillon 2\"\u001b[0m\u001b[1;33m]\u001b[0m\u001b[1;33m)\u001b[0m\u001b[1;33m**\u001b[0m\u001b[1;36m2\u001b[0m\u001b[1;33m\u001b[0m\u001b[0m\n\u001b[1;32m      6\u001b[0m \u001b[0mesperance_log\u001b[0m       \u001b[1;33m=\u001b[0m \u001b[0mmath\u001b[0m\u001b[1;33m.\u001b[0m\u001b[0mexp\u001b[0m\u001b[1;33m(\u001b[0m\u001b[0mesperance_empirique\u001b[0m \u001b[1;33m-\u001b[0m \u001b[0mstd_squared\u001b[0m\u001b[1;33m)\u001b[0m\u001b[1;33m\u001b[0m\u001b[0m\n",
      "\u001b[0;31mNameError\u001b[0m: name 'data' is not defined"
     ]
    },
    {
     "data": {
      "image/png": "[encoded data removed]",
      "text/plain": [
       "<matplotlib.figure.Figure at 0x17f8211c630>"
      ]
     },
     "metadata": {},
     "output_type": "display_data"
    }
   ],
   "source": [
    "fig = plt.figure()\n",
    "ax1 = fig.add_subplot(111)\n",
    "\n",
    "esperance_empirique = np.mean(data[\"echantillon 2\"])\n",
    "std_squared         = np.std(data[\"echantillon 2\"])**2\n",
    "esperance_log       = math.exp(esperance_empirique - std_squared)\n",
    "variance_log        = np.exp(std_squared - 1) * np.exp((2*esperance_empirique) + std_squared)\n",
    "\n",
    "res = stats.probplot(np.log(data[\"echantillon 2\"]), dist=stats.norm,sparams=(esperance_log,variance_log), plot=ax1)\n",
    "ax1.set_title(\"Probplot for normal distrib\")"
   ]
  },
  {
   "cell_type": "code",
   "execution_count": 288,
   "metadata": {
    "collapsed": false
   },
   "outputs": [
    {
     "data": {
      "text/plain": [
       "<matplotlib.text.Text at 0x29f4d94bdd8>"
      ]
     },
     "execution_count": 288,
     "metadata": {},
     "output_type": "execute_result"
    },
    {
     "data": {
      "image/png": "[encoded data removed]",
      "text/plain": [
       "<matplotlib.figure.Figure at 0x29f4b5720f0>"
      ]
     },
     "metadata": {},
     "output_type": "display_data"
    }
   ],
   "source": [
    "fig = plt.figure()\n",
    "ax1 = fig.add_subplot(111)\n",
    "res = stats.probplot(np.log(data[\"echantillon 3\"]), dist=stats.norm,sparams=(np.mean(data[\"echantillon 3\"])), plot=ax1)\n",
    "ax1.set_title(\"Probplot for normal distrib\")"
   ]
  },
  {
   "cell_type": "code",
   "execution_count": 289,
   "metadata": {
    "collapsed": false
   },
   "outputs": [
    {
     "data": {
      "text/plain": [
       "<matplotlib.text.Text at 0x29f4dba6940>"
      ]
     },
     "execution_count": 289,
     "metadata": {},
     "output_type": "execute_result"
    },
    {
     "data": {
      "image/png": "[encoded data removed]",
      "text/plain": [
       "<matplotlib.figure.Figure at 0x29f53684438>"
      ]
     },
     "metadata": {},
     "output_type": "display_data"
    }
   ],
   "source": [
    "fig = plt.figure()\n",
    "ax1 = fig.add_subplot(111)\n",
    "\n",
    "esperance_empirique = np.mean(data[\"echantillon 3\"])\n",
    "std_squared         = np.std(data[\"echantillon 3\"])**2\n",
    "esperance_log       = math.exp(esperance_empirique - std_squared)\n",
    "variance_log        = np.exp(std_squared - 1) * np.exp((2*esperance_empirique) + std_squared)\n",
    "\n",
    "res = stats.probplot(np.log(data[\"echantillon 3\"]), dist=stats.norm,sparams=(esperance_log,variance_log), plot=ax1)\n",
    "ax1.set_title(\"Probplot for normal distrib\")"
   ]
  }
 ],
 "metadata": {
  "anaconda-cloud": {},
  "kernelspec": {
   "display_name": "Python 3",
   "language": "python",
   "name": "python3"
  },
  "language_info": {
   "codemirror_mode": {
    "name": "ipython",
    "version": 3
   },
   "file_extension": ".py",
   "mimetype": "text/x-python",
   "name": "python",
   "nbconvert_exporter": "python",
   "pygments_lexer": "ipython3",
   "version": "3.6.0"
  }
 },
 "nbformat": 4,
 "nbformat_minor": 1
}
